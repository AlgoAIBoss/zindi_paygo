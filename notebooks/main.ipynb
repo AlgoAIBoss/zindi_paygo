{
 "cells": [
  {
   "cell_type": "code",
   "execution_count": null,
   "metadata": {},
   "outputs": [],
   "source": [
    "## Data Ingestion\n",
    "from src.data.ingestion import DataIngestion\n",
    "train, test = DataIngestion(mode=\"dev\").execute()"
   ]
  },
  {
   "cell_type": "code",
   "execution_count": null,
   "metadata": {
    "pycharm": {
     "name": "#%%\n"
    }
   },
   "outputs": [],
   "source": [
    "## Feature Engineering\n",
    "from src.features.engineering import FeatureEngineering\n",
    "train = FeatureEngineering(train).execute()\n",
    "test = FeatureEngineering(test).execute()"
   ]
  },
  {
   "cell_type": "code",
   "execution_count": null,
   "metadata": {
    "pycharm": {
     "name": "#%%\n"
    }
   },
   "outputs": [],
   "source": [
    "# Drop Useless Columns\n",
    "def drop_cols(df):\n",
    "    df.drop(\n",
    "        [\n",
    "            \"ID\",\n",
    "            \"UpsellDate\",\n",
    "            \"PaymentMethod\",\n",
    "            \"TransactionDates\",\n",
    "            \"PaymentsHistory\",\n",
    "            \"SupplierName\",\n",
    "            \"Town\",\n",
    "            \"RegistrationDateParsed\",\n",
    "            \"ExpectedTermDateParsed\",\n",
    "            \"FirstPaymentDateParsed\",\n",
    "            \"LastPaymentDateParsed\"\n",
    "        ],\n",
    "        inplace=True,\n",
    "        axis=1\n",
    "    )\n",
    "drop_cols(train)\n",
    "drop_cols(test)\n",
    "train.head()\n",
    "test.head()"
   ]
  },
  {
   "cell_type": "code",
   "execution_count": null,
   "metadata": {
    "pycharm": {
     "name": "#%%\n"
    }
   },
   "outputs": [],
   "source": [
    "# Feature Encoding\n",
    "\n"
   ]
  },
  {
   "cell_type": "code",
   "execution_count": null,
   "metadata": {},
   "outputs": [],
   "source": [
    "# Feature Scaling"
   ]
  },
  {
   "cell_type": "code",
   "execution_count": null,
   "metadata": {},
   "outputs": [],
   "source": [
    "# Approach two modelling"
   ]
  },
  {
   "cell_type": "code",
   "execution_count": null,
   "metadata": {
    "pycharm": {
     "name": "#%%\n"
    }
   },
   "outputs": [],
   "source": [
    "## Inference: model, X  -> yPred"
   ]
  },
  {
   "cell_type": "code",
   "execution_count": null,
   "metadata": {},
   "outputs": [],
   "source": [
    "# Calculation of Metric (RMSE)"
   ]
  },
  {
   "cell_type": "code",
   "execution_count": null,
   "metadata": {},
   "outputs": [],
   "source": [
    "# Outlier detection (if any)"
   ]
  },
  {
   "cell_type": "markdown",
   "metadata": {},
   "source": [
    "# TASKS\n",
    "# Tasks\n",
    "    - Feature selection  Aum\n",
    "        - Automated selection based on Genie Index\n",
    "\n",
    "    - Pipeline setup  Nikhil\n",
    "        - Pre-process\n",
    "            - ingestion (DONE)\n",
    "            - Features (DONE)\n",
    "            - Encoding (Pending)\n",
    "            - scaling (if applicable)\n",
    "        - Modelling\n",
    "            - Approach2\n",
    "                - Sliding updates for features for Train and test\n",
    "        \n",
    "        - validation\n",
    "            - Calculate RMSE\n"
   ]
  }
 ],
 "metadata": {
  "kernelspec": {
   "display_name": "Python 3",
   "language": "python",
   "name": "python3"
  },
  "language_info": {
   "codemirror_mode": {
    "name": "ipython",
    "version": 3
   },
   "file_extension": ".py",
   "mimetype": "text/x-python",
   "name": "python",
   "nbconvert_exporter": "python",
   "pygments_lexer": "ipython3",
   "version": "3.9.1"
  }
 },
 "nbformat": 4,
 "nbformat_minor": 1
}