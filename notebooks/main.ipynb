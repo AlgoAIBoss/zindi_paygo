{
 "cells": [
  {
   "cell_type": "code",
   "execution_count": 1,
   "metadata": {},
   "outputs": [],
   "source": [
    "import os\n",
    "import sys\n",
    "from pathlib import Path\n",
    "\n",
    "mod_path = os.path.join(Path.cwd().parent)\n",
    "if mod_path not in sys.path:\n",
    "    sys.path.append(mod_path)"
   ]
  },
  {
   "cell_type": "code",
   "execution_count": 47,
   "metadata": {},
   "outputs": [],
   "source": [
    "from typing import Union, Optional\n",
    "from copy import deepcopy\n",
    "import numpy as np\n",
    "\n",
    "from src.data.ingestion import DataIngestion\n",
    "from src.features.engineering import FeatureEngineering\n",
    "from src.features.encoding import FeatureEncoding\n",
    "from src.model.tree_based import ModelXgBoost\n",
    "from src.data.validation_file import SubmissionFile"
   ]
  },
  {
   "cell_type": "markdown",
   "metadata": {},
   "source": [
    "# Data Ingestion"
   ]
  },
  {
   "cell_type": "code",
   "execution_count": 3,
   "metadata": {},
   "outputs": [
    {
     "name": "stderr",
     "output_type": "stream",
     "text": [
      "/home/aumaron/.local/share/virtualenvs/zindi_payg-FXkRANRI/lib/python3.9/site-packages/IPython/core/interactiveshell.py:3441: DtypeWarning: Columns (3) have mixed types.Specify dtype option on import or set low_memory=False.\n",
      "  exec(code_obj, self.user_global_ns, self.user_ns)\n"
     ]
    }
   ],
   "source": [
    "# Should be run always [train and test]\n",
    "train, test = DataIngestion(mode=\"dev\").execute()\n",
    "train.dropna(subset=['Region'], how='all', inplace=True)\n",
    "test.dropna(subset=['Region'], how='all', inplace=True)\n",
    "train.drop(columns=['Town'], inplace=True)\n",
    "test.drop(columns=['Town'], inplace=True)\n",
    "# test = DataIngestion(mode=\"test\").execute()"
   ]
  },
  {
   "cell_type": "markdown",
   "metadata": {},
   "source": [
    "# Feature Engineering"
   ]
  },
  {
   "cell_type": "code",
   "execution_count": 4,
   "metadata": {
    "pycharm": {
     "name": "#%%\n"
    }
   },
   "outputs": [],
   "source": [
    "# FEATURE_ID_MAPPING = {\n",
    "#     \"Occupation\": 0,\n",
    "#     \"MainApplicantGender\": 1\n",
    "# }\n",
    "train = FeatureEngineering().execute(train)\n",
    "test = FeatureEngineering().execute(test)\n",
    "train.drop(\n",
    "    columns=['TransactionDates',\n",
    "             'PaymentsHistory',\n",
    "             'RegistrationDate',\n",
    "             'UpsellDate',\n",
    "             'SupplierName',\n",
    "             'PaymentMethod',\n",
    "             'ExpectedTermDate',\n",
    "             'FirstPaymentDate',\n",
    "             'LastPaymentDate',\n",
    "             'SplitTransactionDates'],\n",
    "    inplace=True\n",
    ")\n",
    "test.drop(\n",
    "    columns=['TransactionDates',\n",
    "             'PaymentsHistory',\n",
    "             'RegistrationDate',\n",
    "             'UpsellDate',\n",
    "             'SupplierName',\n",
    "             'PaymentMethod',\n",
    "             'ExpectedTermDate',\n",
    "             'FirstPaymentDate',\n",
    "             'LastPaymentDate',\n",
    "             'SplitTransactionDates'],\n",
    "    inplace=True\n",
    ")"
   ]
  },
  {
   "cell_type": "markdown",
   "metadata": {},
   "source": [
    "# X_Train and Y_Train Formulation"
   ]
  },
  {
   "cell_type": "code",
   "execution_count": 5,
   "metadata": {},
   "outputs": [
    {
     "data": {
      "text/plain": [
       "Index(['ID', 'm1', 'm2', 'm3', 'm4', 'm5', 'm6', 'Deposit', 'AccessoryRate',\n",
       "       'rateTypeEntity', 'RatePerUnit', 'DaysOnDeposit', 'MainApplicantGender',\n",
       "       'Age', 'Region', 'Occupation', 'Term', 'TotalContractValue',\n",
       "       'SplitPaymentsHistory', 'nb_payments', 'amount_paid',\n",
       "       'percent_amt_paid', 'mean_amt_paid', 'median_amt_paid', 'max_amt_paid',\n",
       "       'min_amt_paid', 'stddev_amt_paid', 'nb_skipped_months', 'b1', 'b2',\n",
       "       'b3', 'b4', 'b5'],\n",
       "      dtype='object')"
      ]
     },
     "execution_count": 5,
     "metadata": {},
     "output_type": "execute_result"
    }
   ],
   "source": [
    "train.columns"
   ]
  },
  {
   "cell_type": "code",
   "execution_count": 6,
   "metadata": {
    "pycharm": {
     "name": "#%%\n"
    }
   },
   "outputs": [],
   "source": [
    "# Prepare data for Train\n",
    "import copy\n",
    "import pandas as pd\n",
    "\n",
    "new_payments_df = train[[\"m1\", \"m2\", \"m3\", \"m4\", \"m5\", \"m6\"]]\n",
    "y_train = pd.concat([new_payments_df, new_payments_df.T.stack().reset_index(name='y')['y']], axis=1)[[\"y\"]]\n",
    "\n",
    "all_x_dfs = {\"df_0\": train.drop([\"m1\", \"m2\", \"m3\", \"m4\", \"m5\", \"m6\"], axis=1)}\n",
    "for i in range(1, 6):\n",
    "    temp_df = copy.deepcopy(all_x_dfs[f\"df_{i - 1}\"])\n",
    "    m_df = new_payments_df[[f\"m{i}\"]]\n",
    "    temp_df = pd.concat([temp_df, m_df], axis=1)\n",
    "    temp_df.rename(columns={f\"m{i}\": \"new_payment\"}, inplace=True)\n",
    "    temp_df = FeatureEngineering().get_updated_df(base_df=temp_df)\n",
    "    all_x_dfs[f\"df_{i}\"] = temp_df\n",
    "\n",
    "x_train = pd.concat([all_x_dfs[f\"df_{i}\"] for i in range(6)], ignore_index=True)\n",
    "x_train.drop(columns=['SplitPaymentsHistory'], inplace=True)\n",
    "del new_payments_df, temp_df, m_df"
   ]
  },
  {
   "cell_type": "code",
   "execution_count": 7,
   "metadata": {},
   "outputs": [],
   "source": [
    "# ID variable is saved separately\n",
    "# x_train_id = x_train[['ID']]\n",
    "x_train.drop(columns=['ID'], inplace=True)\n",
    "\n",
    "test_id = test[['ID']]\n",
    "test.drop(columns=['ID'], inplace=True)"
   ]
  },
  {
   "cell_type": "code",
   "execution_count": 8,
   "metadata": {},
   "outputs": [
    {
     "data": {
      "text/plain": [
       "(87570, 25)"
      ]
     },
     "execution_count": 8,
     "metadata": {},
     "output_type": "execute_result"
    }
   ],
   "source": [
    "x_train.shape"
   ]
  },
  {
   "cell_type": "markdown",
   "metadata": {},
   "source": [
    "# Encoding"
   ]
  },
  {
   "cell_type": "code",
   "execution_count": 9,
   "metadata": {
    "pycharm": {
     "name": "#%%\n"
    }
   },
   "outputs": [],
   "source": [
    "def filter_categorical_features(encoded_frame,\n",
    "                                numerical_frame,\n",
    "                                categorical_variable: Optional[Union[list, str]] = None,\n",
    "                                categories_to_filter: Optional[list] = None):\n",
    "    \"\"\"\n",
    "    Filter category or categories in a specifc or multiple categorical variables from the encoded frame\n",
    "\n",
    "    \"\"\"    \n",
    "    # Categories to filter\n",
    "    if categories_to_filter:\n",
    "        filtered_frame = encoded_frame[encoded_frame.columns[encoded_frame.columns.isin(categories_to_filter)]]\n",
    "    else:\n",
    "        categories = []\n",
    "        if isinstance(categorical_variable, list):\n",
    "            for _variable in categorical_variable:\n",
    "                categories.extend(train[_variable].unique().tolist())\n",
    "        else:\n",
    "            categories.extend(train[categorical_variable].unique().tolist())\n",
    "        filtered_frame = encoded_frame[encoded_frame.columns[encoded_frame.columns.isin(categories)]]\n",
    "    \n",
    "    _index = numerical_frame.index\n",
    "    final_df = pd.concat([numerical_frame.reset_index(drop=True),\n",
    "                          filtered_frame.reset_index(drop=True)], axis=1)\n",
    "    final_df.index = _index\n",
    "    \n",
    "    return final_df\n",
    "\n",
    "\n",
    "def encode_and_drop(full_array, data_type, tr_encoder=None):\n",
    "    categorical_array = full_array[full_array.select_dtypes(exclude=['number']).columns]\n",
    "    numerical_array = full_array.drop(columns=full_array.select_dtypes(exclude=['number']).columns)\n",
    "    if not tr_encoder:\n",
    "        encoder = FeatureEncoding()\n",
    "    else:\n",
    "        encoder = tr_encoder\n",
    "    encoded_array = encoder.one_hot_encoding(\n",
    "    categorical_frame=categorical_array,\n",
    "    type_of_data=data_type,\n",
    "    conv=True,\n",
    "    drop=None,\n",
    "    handle_unknown=\"ignore\"\n",
    ")\n",
    "    final_array = pd.concat([numerical_array.reset_index(drop=True),\n",
    "                             encoded_array.reset_index(drop=True)], axis=1)\n",
    "    final_array.index = numerical_array.index\n",
    "\n",
    "    return numerical_array, encoded_array, final_array, encoder\n",
    "\n",
    "# For x_train\n",
    "numerical_df, encoded_categories, encoded_train, encoding_obj = encode_and_drop(x_train, \"train\", None)\n",
    "\n",
    "filtered_df = filter_categorical_features(encoded_categories, numerical_df, categorical_variable=['Occupation', 'Region'])"
   ]
  },
  {
   "cell_type": "code",
   "execution_count": 10,
   "metadata": {
    "pycharm": {
     "name": "#%%\n"
    }
   },
   "outputs": [],
   "source": [
    "# Feature Scaling"
   ]
  },
  {
   "cell_type": "markdown",
   "metadata": {},
   "source": [
    "# Model Training"
   ]
  },
  {
   "cell_type": "code",
   "execution_count": 11,
   "metadata": {},
   "outputs": [],
   "source": [
    "# Preparing the TRAIN data for approach two and fitting the model\n",
    "\n",
    "model_two_obj = ModelXgBoost(train_array=filtered_df,\n",
    "                             train_target=y_train)\n",
    "model_two_obj.train_model()  # Default h.params (Checkout the code)\n",
    "model_two = model_two_obj.trained_model"
   ]
  },
  {
   "cell_type": "markdown",
   "metadata": {},
   "source": [
    "# Model Inference"
   ]
  },
  {
   "cell_type": "code",
   "execution_count": 25,
   "metadata": {},
   "outputs": [],
   "source": [
    "y_test = test[[\"m1\", \"m2\", \"m3\", \"m4\", \"m5\", \"m6\"]]\n",
    "x_test = test.drop(columns=[\"m1\", \"m2\", \"m3\", \"m4\", \"m5\", \"m6\", \"SplitPaymentsHistory\"])"
   ]
  },
  {
   "cell_type": "code",
   "execution_count": 30,
   "metadata": {
    "scrolled": true
   },
   "outputs": [],
   "source": [
    "# For x_test\n",
    "split_payment_history = test[[\"SplitPaymentsHistory\"]]\n",
    "\n",
    "numerical_df_test, encoded_categories_test, encoded_test, encoding_obj_t = encode_and_drop(x_test, \"test\", encoding_obj)\n",
    "filtered_df_test = filter_categorical_features(encoded_categories_test, numerical_df_test, categorical_variable=['Occupation', 'Region'])\n",
    "_indexes = filtered_df_test.index\n",
    "# y_pred = pd.DataFrame()\n",
    "predict_dict = dict()\n",
    "for predict_col in y_test.columns:\n",
    "    predict_dict[f\"{predict_col}_pred\"] = model_two.predict(filtered_df_test)\n",
    "    y_pred_df = pd.DataFrame(predict_dict[f\"{predict_col}_pred\"], columns=[f\"{predict_col}_pred\"])\n",
    "    filtered_df_test = pd.concat([filtered_df_test.reset_index(drop=True),\n",
    "                                  y_pred_df.reset_index(drop=True), \n",
    "                                  split_payment_history.reset_index(drop=True)], axis=1)\n",
    "    filtered_df_test.index = _indexes  # Making sure indexes are maintained\n",
    "    filtered_df_test.rename(columns={f\"{predict_col}_pred\": \"new_payment\"}, inplace=True)\n",
    "    filtered_df_test = FeatureEngineering().get_updated_df(base_df=filtered_df_test)\n",
    "    split_payment_history = filtered_df_test[[\"SplitPaymentsHistory\"]]\n",
    "    filtered_df_test.drop(columns=[\"SplitPaymentsHistory\"], inplace=True)\n",
    "\n",
    "del split_payment_history"
   ]
  },
  {
   "cell_type": "code",
   "execution_count": 31,
   "metadata": {},
   "outputs": [
    {
     "data": {
      "text/plain": [
       "{'m1_pred': array([1007.7985 ,  793.37146,  102.31387, ...,  430.7622 , 1517.0515 ,\n",
       "        1210.1794 ], dtype=float32),\n",
       " 'm2_pred': array([ 615.17944,  754.7656 ,  164.8769 , ...,  513.09296, 1329.1776 ,\n",
       "        1092.514  ], dtype=float32),\n",
       " 'm3_pred': array([ 874.8007 ,  703.97577,  133.0233 , ...,  495.88226, 1131.4154 ,\n",
       "         953.39465], dtype=float32),\n",
       " 'm4_pred': array([ 729.5285  ,  966.5423  ,  124.398766, ...,  426.3277  ,\n",
       "        1336.6155  ,  937.6392  ], dtype=float32),\n",
       " 'm5_pred': array([2133.902  , 1153.6567 ,  107.14194, ...,  530.14575, 1441.7386 ,\n",
       "        1405.635  ], dtype=float32),\n",
       " 'm6_pred': array([11463.94   ,  1255.5376 ,   125.16381, ...,   438.10602,\n",
       "          453.28284,   215.36354], dtype=float32)}"
      ]
     },
     "execution_count": 31,
     "metadata": {},
     "output_type": "execute_result"
    }
   ],
   "source": [
    "predict_dict"
   ]
  },
  {
   "cell_type": "markdown",
   "metadata": {},
   "source": [
    "# Calculation of Metric"
   ]
  },
  {
   "cell_type": "code",
   "execution_count": 32,
   "metadata": {},
   "outputs": [
    {
     "data": {
      "text/html": [
       "<div>\n",
       "<style scoped>\n",
       "    .dataframe tbody tr th:only-of-type {\n",
       "        vertical-align: middle;\n",
       "    }\n",
       "\n",
       "    .dataframe tbody tr th {\n",
       "        vertical-align: top;\n",
       "    }\n",
       "\n",
       "    .dataframe thead th {\n",
       "        text-align: right;\n",
       "    }\n",
       "</style>\n",
       "<table border=\"1\" class=\"dataframe\">\n",
       "  <thead>\n",
       "    <tr style=\"text-align: right;\">\n",
       "      <th></th>\n",
       "      <th>m1</th>\n",
       "      <th>m2</th>\n",
       "      <th>m3</th>\n",
       "      <th>m4</th>\n",
       "      <th>m5</th>\n",
       "      <th>m6</th>\n",
       "    </tr>\n",
       "  </thead>\n",
       "  <tbody>\n",
       "    <tr>\n",
       "      <th>27689</th>\n",
       "      <td>650.0</td>\n",
       "      <td>100.0</td>\n",
       "      <td>200.0</td>\n",
       "      <td>1400.0</td>\n",
       "      <td>940.0</td>\n",
       "      <td>110.0</td>\n",
       "    </tr>\n",
       "    <tr>\n",
       "      <th>7826</th>\n",
       "      <td>280.0</td>\n",
       "      <td>200.0</td>\n",
       "      <td>560.0</td>\n",
       "      <td>600.0</td>\n",
       "      <td>800.0</td>\n",
       "      <td>400.0</td>\n",
       "    </tr>\n",
       "    <tr>\n",
       "      <th>22604</th>\n",
       "      <td>40.0</td>\n",
       "      <td>90.0</td>\n",
       "      <td>5.0</td>\n",
       "      <td>40.0</td>\n",
       "      <td>50.0</td>\n",
       "      <td>40.0</td>\n",
       "    </tr>\n",
       "    <tr>\n",
       "      <th>3333</th>\n",
       "      <td>1595.0</td>\n",
       "      <td>1595.0</td>\n",
       "      <td>1540.0</td>\n",
       "      <td>1650.0</td>\n",
       "      <td>1595.0</td>\n",
       "      <td>275.0</td>\n",
       "    </tr>\n",
       "    <tr>\n",
       "      <th>23500</th>\n",
       "      <td>50.0</td>\n",
       "      <td>40.0</td>\n",
       "      <td>110.0</td>\n",
       "      <td>50.0</td>\n",
       "      <td>1050.0</td>\n",
       "      <td>750.0</td>\n",
       "    </tr>\n",
       "    <tr>\n",
       "      <th>...</th>\n",
       "      <td>...</td>\n",
       "      <td>...</td>\n",
       "      <td>...</td>\n",
       "      <td>...</td>\n",
       "      <td>...</td>\n",
       "      <td>...</td>\n",
       "    </tr>\n",
       "    <tr>\n",
       "      <th>187</th>\n",
       "      <td>1205.0</td>\n",
       "      <td>804.0</td>\n",
       "      <td>1251.0</td>\n",
       "      <td>1045.0</td>\n",
       "      <td>1210.0</td>\n",
       "      <td>1154.0</td>\n",
       "    </tr>\n",
       "    <tr>\n",
       "      <th>21736</th>\n",
       "      <td>120.0</td>\n",
       "      <td>120.0</td>\n",
       "      <td>40.0</td>\n",
       "      <td>230.0</td>\n",
       "      <td>200.0</td>\n",
       "      <td>80.0</td>\n",
       "    </tr>\n",
       "    <tr>\n",
       "      <th>19332</th>\n",
       "      <td>450.0</td>\n",
       "      <td>40.0</td>\n",
       "      <td>40.0</td>\n",
       "      <td>540.0</td>\n",
       "      <td>40.0</td>\n",
       "      <td>40.0</td>\n",
       "    </tr>\n",
       "    <tr>\n",
       "      <th>3478</th>\n",
       "      <td>2070.0</td>\n",
       "      <td>1158.0</td>\n",
       "      <td>1830.0</td>\n",
       "      <td>1370.0</td>\n",
       "      <td>1650.0</td>\n",
       "      <td>760.0</td>\n",
       "    </tr>\n",
       "    <tr>\n",
       "      <th>25296</th>\n",
       "      <td>1400.0</td>\n",
       "      <td>1400.0</td>\n",
       "      <td>2487.0</td>\n",
       "      <td>250.0</td>\n",
       "      <td>1650.0</td>\n",
       "      <td>100.0</td>\n",
       "    </tr>\n",
       "  </tbody>\n",
       "</table>\n",
       "<p>11966 rows × 6 columns</p>\n",
       "</div>"
      ],
      "text/plain": [
       "           m1      m2      m3      m4      m5      m6\n",
       "27689   650.0   100.0   200.0  1400.0   940.0   110.0\n",
       "7826    280.0   200.0   560.0   600.0   800.0   400.0\n",
       "22604    40.0    90.0     5.0    40.0    50.0    40.0\n",
       "3333   1595.0  1595.0  1540.0  1650.0  1595.0   275.0\n",
       "23500    50.0    40.0   110.0    50.0  1050.0   750.0\n",
       "...       ...     ...     ...     ...     ...     ...\n",
       "187    1205.0   804.0  1251.0  1045.0  1210.0  1154.0\n",
       "21736   120.0   120.0    40.0   230.0   200.0    80.0\n",
       "19332   450.0    40.0    40.0   540.0    40.0    40.0\n",
       "3478   2070.0  1158.0  1830.0  1370.0  1650.0   760.0\n",
       "25296  1400.0  1400.0  2487.0   250.0  1650.0   100.0\n",
       "\n",
       "[11966 rows x 6 columns]"
      ]
     },
     "execution_count": 32,
     "metadata": {},
     "output_type": "execute_result"
    }
   ],
   "source": [
    "y_test"
   ]
  },
  {
   "cell_type": "code",
   "execution_count": 33,
   "metadata": {},
   "outputs": [],
   "source": [
    "pred_frame = pd.DataFrame(predict_dict)\n",
    "pred_frame.index = _indexes"
   ]
  },
  {
   "cell_type": "code",
   "execution_count": 34,
   "metadata": {},
   "outputs": [],
   "source": [
    "full_test_array = pd.concat([filtered_df_test, y_test, pred_frame], axis=1)"
   ]
  },
  {
   "cell_type": "code",
   "execution_count": 40,
   "metadata": {},
   "outputs": [],
   "source": [
    "full_test_array = pd.merge(full_test_array, test_id, how='left', left_index=True, right_index=True)"
   ]
  },
  {
   "cell_type": "code",
   "execution_count": 44,
   "metadata": {},
   "outputs": [],
   "source": [
    "sub_file = SubmissionFile(\n",
    "    validation_data=full_test_array,\n",
    "    type_of_data='validation'\n",
    ").execute()"
   ]
  },
  {
   "cell_type": "code",
   "execution_count": 45,
   "metadata": {},
   "outputs": [
    {
     "data": {
      "text/plain": [
       "(71796, 3)"
      ]
     },
     "execution_count": 45,
     "metadata": {},
     "output_type": "execute_result"
    }
   ],
   "source": [
    "sub_file.shape"
   ]
  },
  {
   "cell_type": "code",
   "execution_count": 48,
   "metadata": {},
   "outputs": [],
   "source": [
    "sub_file['SquaredError'] = np.square(sub_file['Target'] - sub_file['Prediction'])"
   ]
  },
  {
   "cell_type": "code",
   "execution_count": 49,
   "metadata": {},
   "outputs": [
    {
     "name": "stdout",
     "output_type": "stream",
     "text": [
      "Final RMSE -->  1564.208212407409\n"
     ]
    }
   ],
   "source": [
    "rmse = np.sqrt(np.sum(sub_file['SquaredError'])/sub_file.shape[0])\n",
    "print('Final RMSE --> ', rmse)"
   ]
  },
  {
   "cell_type": "code",
   "execution_count": null,
   "metadata": {},
   "outputs": [],
   "source": []
  },
  {
   "cell_type": "code",
   "execution_count": null,
   "metadata": {},
   "outputs": [],
   "source": [
    "## Inference: model, X  -> yPred"
   ]
  },
  {
   "cell_type": "code",
   "execution_count": null,
   "metadata": {
    "pycharm": {
     "name": "#%%\n"
    }
   },
   "outputs": [],
   "source": [
    "# Submission File, Calculation of Metric (RMSE)\n",
    "# Input: y_test(n X 6), y_pred(n X 6)\n",
    "# Output: RMSE\n",
    "\n"
   ]
  },
  {
   "cell_type": "code",
   "execution_count": null,
   "metadata": {},
   "outputs": [],
   "source": [
    "# Outlier detection (if any)"
   ]
  },
  {
   "cell_type": "markdown",
   "metadata": {
    "pycharm": {
     "name": "#%% md\n"
    }
   },
   "source": [
    "# TASKS\n",
    "# Tasks\n",
    "    - Feature selection  Aum\n",
    "        - Automated selection based on Genie Index\n",
    "\n",
    "    - Pipeline setup  Nikhil\n",
    "        - Pre-process\n",
    "            - ingestion (DONE)\n",
    "            - Features (DONE)\n",
    "            - Encoding (Pending)\n",
    "            - scaling (if applicable)\n",
    "        - Modelling\n",
    "            - Approach2\n",
    "            - Sliding updates for features for Train and test\n",
    "\n",
    "        - validation\n",
    "            - Calculate RMSE"
   ]
  },
  {
   "cell_type": "code",
   "execution_count": null,
   "metadata": {
    "pycharm": {
     "name": "#%%\n"
    }
   },
   "outputs": [],
   "source": [
    "# Drop Useless Columns\n",
    "def drop_cols(df):\n",
    "    df.drop(\n",
    "        [\n",
    "            \"ID\",\n",
    "            \"UpsellDate\",\n",
    "            \"PaymentMethod\",\n",
    "            \"TransactionDates\",\n",
    "            \"PaymentsHistory\",\n",
    "            \"SupplierName\",\n",
    "            \"Town\",\n",
    "            \"RegistrationDateParsed\",\n",
    "            \"ExpectedTermDateParsed\",\n",
    "            \"FirstPaymentDateParsed\",\n",
    "            \"LastPaymentDateParsed\"\n",
    "        ],\n",
    "        inplace=True,\n",
    "        axis=1\n",
    "    )\n",
    "\n",
    "\n",
    "drop_cols(train)\n",
    "drop_cols(test)\n",
    "train.head()\n",
    "test.head()\n"
   ]
  }
 ],
 "metadata": {
  "kernelspec": {
   "display_name": "zindi_payg",
   "language": "python",
   "name": "zindi_payg"
  },
  "language_info": {
   "codemirror_mode": {
    "name": "ipython",
    "version": 3
   },
   "file_extension": ".py",
   "mimetype": "text/x-python",
   "name": "python",
   "nbconvert_exporter": "python",
   "pygments_lexer": "ipython3",
   "version": "3.9.1"
  }
 },
 "nbformat": 4,
 "nbformat_minor": 1
}
