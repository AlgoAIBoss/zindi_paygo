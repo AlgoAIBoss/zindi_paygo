{
 "cells": [
  {
   "cell_type": "code",
   "execution_count": 1,
   "metadata": {},
   "outputs": [
    {
     "name": "stderr",
     "output_type": "stream",
     "text": [
      "/home/nikhil/.local/share/virtualenvs/zindi_paygo-1-T8XSNTNt/lib/python3.9/site-packages/IPython/core/interactiveshell.py:3441: DtypeWarning: Columns (3) have mixed types.Specify dtype option on import or set low_memory=False.\n",
      "  exec(code_obj, self.user_global_ns, self.user_ns)\n"
     ]
    }
   ],
   "source": [
    "## Data Ingestion\n",
    "from src.data.ingestion import DataIngestion\n",
    "from src.features.encoding import FeatureEncoding\n",
    "train, test = DataIngestion(mode=\"dev\").execute()"
   ]
  },
  {
   "cell_type": "code",
   "execution_count": 2,
   "metadata": {
    "pycharm": {
     "name": "#%%\n"
    }
   },
   "outputs": [],
   "source": [
    "## Feature Engineering\n",
    "from src.features.engineering import FeatureEngineering\n",
    "\n",
    "FEATURE_ID_MAPPING = {\n",
    "    \"Occupation\": 0,\n",
    "    \"MainApplicantGender\": 1\n",
    "}\n",
    "\n",
    "train = FeatureEngineering().execute(train)\n",
    "test = FeatureEngineering().execute(test)"
   ]
  },
  {
   "cell_type": "code",
   "execution_count": 3,
   "outputs": [
    {
     "name": "stdout",
     "output_type": "stream",
     "text": [
      "COLUMN-------\n",
      "Occupation\n",
      "['Teacher' 'Farmer' 'Business' 'Government Employee' 'Other' 'Labourer'\n",
      " 'Driver/Motorbike Rider']\n",
      "COLUMN-------\n",
      "MainApplicantGender\n",
      "['Male' 'Female']\n"
     ]
    },
    {
     "data": {
      "text/plain": "   Driver/Motorbike Rider  Farmer  Government Employee  Labourer  Other  \\\n0                     0.0     1.0                  0.0       0.0    0.0   \n1                     0.0     0.0                  0.0       0.0    0.0   \n2                     0.0     1.0                  0.0       0.0    0.0   \n3                     0.0     0.0                  0.0       0.0    0.0   \n4                     0.0     1.0                  0.0       0.0    0.0   \n\n   Teacher  Male  \n0      0.0   1.0  \n1      0.0   1.0  \n2      0.0   1.0  \n3      0.0   0.0  \n4      0.0   0.0  ",
      "text/html": "<div>\n<style scoped>\n    .dataframe tbody tr th:only-of-type {\n        vertical-align: middle;\n    }\n\n    .dataframe tbody tr th {\n        vertical-align: top;\n    }\n\n    .dataframe thead th {\n        text-align: right;\n    }\n</style>\n<table border=\"1\" class=\"dataframe\">\n  <thead>\n    <tr style=\"text-align: right;\">\n      <th></th>\n      <th>Driver/Motorbike Rider</th>\n      <th>Farmer</th>\n      <th>Government Employee</th>\n      <th>Labourer</th>\n      <th>Other</th>\n      <th>Teacher</th>\n      <th>Male</th>\n    </tr>\n  </thead>\n  <tbody>\n    <tr>\n      <th>0</th>\n      <td>0.0</td>\n      <td>1.0</td>\n      <td>0.0</td>\n      <td>0.0</td>\n      <td>0.0</td>\n      <td>0.0</td>\n      <td>1.0</td>\n    </tr>\n    <tr>\n      <th>1</th>\n      <td>0.0</td>\n      <td>0.0</td>\n      <td>0.0</td>\n      <td>0.0</td>\n      <td>0.0</td>\n      <td>0.0</td>\n      <td>1.0</td>\n    </tr>\n    <tr>\n      <th>2</th>\n      <td>0.0</td>\n      <td>1.0</td>\n      <td>0.0</td>\n      <td>0.0</td>\n      <td>0.0</td>\n      <td>0.0</td>\n      <td>1.0</td>\n    </tr>\n    <tr>\n      <th>3</th>\n      <td>0.0</td>\n      <td>0.0</td>\n      <td>0.0</td>\n      <td>0.0</td>\n      <td>0.0</td>\n      <td>0.0</td>\n      <td>0.0</td>\n    </tr>\n    <tr>\n      <th>4</th>\n      <td>0.0</td>\n      <td>1.0</td>\n      <td>0.0</td>\n      <td>0.0</td>\n      <td>0.0</td>\n      <td>0.0</td>\n      <td>0.0</td>\n    </tr>\n  </tbody>\n</table>\n</div>"
     },
     "execution_count": 3,
     "metadata": {},
     "output_type": "execute_result"
    }
   ],
   "source": [
    "## Feature Encoding\n",
    "cat_features = [\"Occupation\", \"MainApplicantGender\"]\n",
    "\n",
    "encoding_obj = FeatureEncoding()\n",
    "encoded_df = encoding_obj.one_hot_encoding(\n",
    "    categorical_frame=train[cat_features],\n",
    "    type_of_data=\"train\",\n",
    "    conv=True,\n",
    "    drop='first',\n",
    "    handle_unknown=\"error\"\n",
    ")\n",
    "encoded_df.head()\n",
    "\n",
    "encoded_test_df = encoding_obj.one_hot_encoding(\n",
    "    categorical_frame=test[cat_features],\n",
    "    type_of_data=\"test\",\n",
    "    conv=True,\n",
    "    drop='first',\n",
    "    handle_unknown=\"error\"\n",
    ")\n",
    "encoded_test_df.head()\n"
   ],
   "metadata": {
    "collapsed": false,
    "pycharm": {
     "name": "#%%\n"
    }
   }
  },
  {
   "cell_type": "code",
   "execution_count": 4,
   "metadata": {
    "pycharm": {
     "name": "#%%\n"
    }
   },
   "outputs": [],
   "source": [
    "## X_Train and Y_Train Formulation\n",
    "\n",
    "import copy\n",
    "import pandas as pd\n",
    "new_payments_df = train[[\"m1\", \"m2\", \"m3\", \"m4\", \"m5\", \"m6\"]]\n",
    "y_train = pd.concat([new_payments_df, new_payments_df.T.stack().reset_index(name='y')['y']], axis=1)[[\"y\"]]\n",
    "\n",
    "all_x_dfs = {\"df_0\": train.drop([\"m1\", \"m2\", \"m3\", \"m4\", \"m5\", \"m6\"], axis=1)}\n",
    "for i in range(1, 6):\n",
    "    temp_df = copy.deepcopy(all_x_dfs[f\"df_{i-1}\"])\n",
    "    m_df = new_payments_df[[f\"m{i}\"]]\n",
    "    temp_df = pd.concat([temp_df, m_df], axis=1)\n",
    "    temp_df.rename(columns={f\"m{i}\": \"new_payment\"}, inplace=True)\n",
    "    temp_df = FeatureEngineering().get_updated_df(base_df=temp_df)\n",
    "    all_x_dfs[f\"df_{i}\"] = temp_df\n",
    "\n",
    "x_train = pd.concat([all_x_dfs[f\"df_{i}\"] for i in range(6)], ignore_index=True)\n",
    "del new_payments_df, temp_df, m_df\n"
   ]
  },
  {
   "cell_type": "code",
   "execution_count": 5,
   "outputs": [
    {
     "name": "stdout",
     "output_type": "stream",
     "text": [
      "(125886, 48)\n",
      "(125886, 1)\n"
     ]
    }
   ],
   "source": [
    "print(x_train.shape)\n",
    "print(y_train.shape)"
   ],
   "metadata": {
    "collapsed": false,
    "pycharm": {
     "name": "#%%\n"
    }
   }
  },
  {
   "cell_type": "code",
   "execution_count": 14,
   "metadata": {
    "pycharm": {
     "name": "#%%\n"
    }
   },
   "outputs": [
    {
     "ename": "ValueError",
     "evalue": "too many values to unpack (expected 2)",
     "output_type": "error",
     "traceback": [
      "\u001B[0;31m---------------------------------------------------------------------------\u001B[0m",
      "\u001B[0;31mValueError\u001B[0m                                Traceback (most recent call last)",
      "\u001B[0;32m<ipython-input-14-af4eb375d89d>\u001B[0m in \u001B[0;36m<module>\u001B[0;34m\u001B[0m\n\u001B[1;32m      2\u001B[0m \u001B[0;31m# Feature Encoding\u001B[0m\u001B[0;34m\u001B[0m\u001B[0;34m\u001B[0m\u001B[0;34m\u001B[0m\u001B[0m\n\u001B[1;32m      3\u001B[0m \u001B[0mencoding_obj\u001B[0m \u001B[0;34m=\u001B[0m \u001B[0mFeatureEncoding\u001B[0m\u001B[0;34m(\u001B[0m\u001B[0;34m)\u001B[0m\u001B[0;34m\u001B[0m\u001B[0;34m\u001B[0m\u001B[0m\n\u001B[0;32m----> 4\u001B[0;31m \u001B[0mencoded_df\u001B[0m \u001B[0;34m=\u001B[0m \u001B[0mencoding_obj\u001B[0m\u001B[0;34m.\u001B[0m\u001B[0mone_hot_encoding\u001B[0m\u001B[0;34m(\u001B[0m\u001B[0mcategorical_frame\u001B[0m\u001B[0;34m=\u001B[0m\u001B[0mtrain\u001B[0m\u001B[0;34m[\u001B[0m\u001B[0mcat_features\u001B[0m\u001B[0;34m]\u001B[0m\u001B[0;34m,\u001B[0m \u001B[0mmode\u001B[0m\u001B[0;34m=\u001B[0m\u001B[0;34m\"train\"\u001B[0m\u001B[0;34m)\u001B[0m\u001B[0;34m\u001B[0m\u001B[0;34m\u001B[0m\u001B[0m\n\u001B[0m\u001B[1;32m      5\u001B[0m \u001B[0mencoded_df\u001B[0m\u001B[0;34m.\u001B[0m\u001B[0mhead\u001B[0m\u001B[0;34m(\u001B[0m\u001B[0;34m)\u001B[0m\u001B[0;34m\u001B[0m\u001B[0;34m\u001B[0m\u001B[0m\n\u001B[1;32m      6\u001B[0m \u001B[0;34m\u001B[0m\u001B[0m\n",
      "\u001B[0;32m~/Desktop/Personal Development/zindi_paygo-1/src/decorators.py\u001B[0m in \u001B[0;36mcheck_and_return_df\u001B[0;34m(*args, **kwargs)\u001B[0m\n\u001B[1;32m      9\u001B[0m     \u001B[0;32mdef\u001B[0m \u001B[0mcheck_and_return_df\u001B[0m\u001B[0;34m(\u001B[0m\u001B[0;34m**\u001B[0m\u001B[0mkwargs\u001B[0m\u001B[0;34m)\u001B[0m\u001B[0;34m:\u001B[0m\u001B[0;34m\u001B[0m\u001B[0;34m\u001B[0m\u001B[0m\n\u001B[1;32m     10\u001B[0m         \u001B[0mframe\u001B[0m \u001B[0;34m=\u001B[0m \u001B[0mkwargs\u001B[0m\u001B[0;34m.\u001B[0m\u001B[0mget\u001B[0m\u001B[0;34m(\u001B[0m\u001B[0;34m\"categorical_frame\"\u001B[0m\u001B[0;34m)\u001B[0m\u001B[0;34m\u001B[0m\u001B[0;34m\u001B[0m\u001B[0m\n\u001B[0;32m---> 11\u001B[0;31m         \u001B[0mprint\u001B[0m\u001B[0;34m(\u001B[0m\u001B[0mfunc\u001B[0m\u001B[0;34m(\u001B[0m\u001B[0;34m**\u001B[0m\u001B[0mkwargs\u001B[0m\u001B[0;34m)\u001B[0m\u001B[0;34m)\u001B[0m\u001B[0;34m\u001B[0m\u001B[0;34m\u001B[0m\u001B[0m\n\u001B[0m\u001B[1;32m     12\u001B[0m         \u001B[0mencoded_arr\u001B[0m\u001B[0;34m,\u001B[0m \u001B[0mencoder\u001B[0m \u001B[0;34m=\u001B[0m \u001B[0mfunc\u001B[0m\u001B[0;34m(\u001B[0m\u001B[0;34m**\u001B[0m\u001B[0mkwargs\u001B[0m\u001B[0;34m)\u001B[0m\u001B[0;34m\u001B[0m\u001B[0;34m\u001B[0m\u001B[0m\n\u001B[1;32m     13\u001B[0m         \u001B[0;31m# two pipelines for pd.DataFrame and np.ndarray\u001B[0m\u001B[0;34m\u001B[0m\u001B[0;34m\u001B[0m\u001B[0;34m\u001B[0m\u001B[0m\n",
      "\u001B[0;31mValueError\u001B[0m: too many values to unpack (expected 2)"
     ]
    }
   ],
   "source": [
    "## Feature Scaling"
   ]
  },
  {
   "cell_type": "code",
   "execution_count": null,
   "metadata": {},
   "outputs": [],
   "source": [
    "## Model Training\n",
    "new_payments_df = test[[\"m1\", \"m2\", \"m3\", \"m4\", \"m5\", \"m6\"]]\n",
    "y_test = pd.concat([new_payments_df, new_payments_df.T.stack().reset_index(name='y')['y']], axis=1)[[\"y\"]]\n",
    "\n",
    "y_pred = pd.DataFrame()\n",
    "x_test = test.drop([\"m1\", \"m2\", \"m3\", \"m4\", \"m5\", \"m6\"])\n",
    "for _ in range(6):\n",
    "    # TODO AP:\n",
    "    y_pred_np_arr = model.predict(x_test)\n",
    "    # Convert y_pred_np_arr into y_pred_df\n",
    "    y_pred_df = model.predict(x_test)\n",
    "    y_pred = pd.concat([y_pred, y_pred_df], ignore_index=True)\n",
    "    x_test = pd.concat([x_test, y_pred_df], axis=1)\n",
    "    x_test.rename(columns={f\"y_pred\": \"new_payment\"}, inplace=True)\n",
    "    x_test = FeatureEngineering().get_updated_df(base_df=x_test)\n",
    "    # all_x_dfs[f\"df_{i}\"] = temp_df"
   ]
  },
  {
   "cell_type": "code",
   "execution_count": null,
   "metadata": {},
   "outputs": [],
   "source": [
    "## Inference: model, X  -> yPred"
   ]
  },
  {
   "cell_type": "code",
   "execution_count": null,
   "metadata": {
    "pycharm": {
     "name": "#%%\n"
    }
   },
   "outputs": [],
   "source": [
    "# Submission File, Calculation of Metric (RMSE)\n",
    "# Input: y_test(n X 6), y_pred(n X 6)\n",
    "# Output: RMSE\n",
    "\n"
   ]
  },
  {
   "cell_type": "code",
   "execution_count": null,
   "metadata": {},
   "outputs": [],
   "source": [
    "# Outlier detection (if any)"
   ]
  },
  {
   "cell_type": "markdown",
   "metadata": {
    "pycharm": {
     "name": "#%% md\n"
    }
   },
   "source": [
    "# TASKS\n",
    "# Tasks\n",
    "    - Feature selection  Aum\n",
    "        - Automated selection based on Genie Index\n",
    "\n",
    "    - Pipeline setup  Nikhil\n",
    "        - Pre-process\n",
    "            - ingestion (DONE)\n",
    "            - Features (DONE)\n",
    "            - Encoding (Pending)\n",
    "            - scaling (if applicable)\n",
    "        - Modelling\n",
    "            - Approach2\n",
    "            - Sliding updates for features for Train and test\n",
    "\n",
    "        - validation\n",
    "            - Calculate RMSE"
   ]
  },
  {
   "cell_type": "code",
   "metadata": {
    "pycharm": {
     "name": "#%%\n"
    }
   },
   "source": [
    "# Drop Useless Columns\n",
    "def drop_cols(df):\n",
    "\n",
    "    df.drop(\n",
    "        [\n",
    "            \"ID\",\n",
    "            \"UpsellDate\",\n",
    "            \"PaymentMethod\",\n",
    "            \"TransactionDates\",\n",
    "            \"PaymentsHistory\",\n",
    "            \"SupplierName\",\n",
    "            \"Town\",\n",
    "            \"RegistrationDateParsed\",\n",
    "            \"ExpectedTermDateParsed\",\n",
    "            \"FirstPaymentDateParsed\",\n",
    "            \"LastPaymentDateParsed\"\n",
    "        ],\n",
    "        inplace=True,\n",
    "        axis=1\n",
    "    )\n",
    "drop_cols(train)\n",
    "drop_cols(test)\n",
    "train.head()\n",
    "test.head()\n"
   ],
   "execution_count": null,
   "outputs": []
  }
 ],
 "metadata": {
  "kernelspec": {
   "display_name": "Python 3",
   "language": "python",
   "name": "python3"
  },
  "language_info": {
   "codemirror_mode": {
    "name": "ipython",
    "version": 3
   },
   "file_extension": ".py",
   "mimetype": "text/x-python",
   "name": "python",
   "nbconvert_exporter": "python",
   "pygments_lexer": "ipython3",
   "version": "3.9.1"
  }
 },
 "nbformat": 4,
 "nbformat_minor": 1
}