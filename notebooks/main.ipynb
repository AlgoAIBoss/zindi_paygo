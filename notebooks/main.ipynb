{
 "cells": [
  {
   "cell_type": "code",
   "execution_count": 1,
   "metadata": {
    "collapsed": true
   },
   "outputs": [
    {
     "name": "stderr",
     "output_type": "stream",
     "text": [
      "/home/nikhil/.local/share/virtualenvs/zindi_paygo-1-T8XSNTNt/lib/python3.9/site-packages/IPython/core/interactiveshell.py:3441: DtypeWarning: Columns (3) have mixed types.Specify dtype option on import or set low_memory=False.\n",
      "  exec(code_obj, self.user_global_ns, self.user_ns)\n"
     ]
    }
   ],
   "source": [
    "## Data Ingestion\n",
    "from src.data.ingestion import DataIngestion\n",
    "train, test = DataIngestion(mode=\"dev\").execute()"
   ]
  },
  {
   "cell_type": "code",
   "execution_count": 2,
   "outputs": [],
   "source": [
    "## Feature Engineering\n",
    "from src.features.engineering import FeatureEngineering\n",
    "train = FeatureEngineering(train).execute()\n",
    "test = FeatureEngineering(test).execute()"
   ],
   "metadata": {
    "collapsed": false,
    "pycharm": {
     "name": "#%%\n"
    }
   }
  },
  {
   "cell_type": "code",
   "execution_count": 3,
   "outputs": [
    {
     "data": {
      "text/plain": "        m1      m2      m3      m4      m5      m6 RegistrationDate  Deposit  \\\n0    880.0   930.0   495.0   715.0   220.0   385.0       2018-04-23     2500   \n4     40.0   440.0   460.0   360.0    80.0   330.0       2017-09-06     2000   \n10  1560.0  2340.0   880.0  1450.0  1500.0  1285.0       2018-03-08     2999   \n12  1200.0  1380.0  1510.0  1390.0  1300.0  1400.0       2018-01-24     2000   \n14   960.0   830.0  1040.0   840.0   800.0   840.0       2017-07-31     2000   \n\n    AccessoryRate rateTypeEntity  ...     b2      b3      b4      b5  \\\n0             0.0          DAILY  ...  280.0  1320.0  1200.0   660.0   \n4             0.0          DAILY  ...   80.0    40.0    40.0    80.0   \n10            0.0          DAILY  ...  450.0   180.0   270.0  4800.0   \n12            0.0          DAILY  ...  960.0   920.0   600.0   920.0   \n14            0.0          DAILY  ...  990.0   140.0   920.0  1280.0   \n\n   LastFirstDuration ExpectedFirstDuration  LastRegistrationDuration  \\\n0               37.0                  18.0                      37.0   \n4               44.0                  11.0                      44.0   \n10              38.0                  17.0                      38.0   \n12              12.0                  11.0                      12.0   \n14              15.0                  11.0                      15.0   \n\n    FirstPaymentMonth LastPaymentMonth RegistrationMonth  \n0                   4                5                 4  \n4                   9                5                 9  \n10                  3                5                 3  \n12                  1                2                 1  \n14                  7               11                 7  \n\n[5 rows x 43 columns]",
      "text/html": "<div>\n<style scoped>\n    .dataframe tbody tr th:only-of-type {\n        vertical-align: middle;\n    }\n\n    .dataframe tbody tr th {\n        vertical-align: top;\n    }\n\n    .dataframe thead th {\n        text-align: right;\n    }\n</style>\n<table border=\"1\" class=\"dataframe\">\n  <thead>\n    <tr style=\"text-align: right;\">\n      <th></th>\n      <th>m1</th>\n      <th>m2</th>\n      <th>m3</th>\n      <th>m4</th>\n      <th>m5</th>\n      <th>m6</th>\n      <th>RegistrationDate</th>\n      <th>Deposit</th>\n      <th>AccessoryRate</th>\n      <th>rateTypeEntity</th>\n      <th>...</th>\n      <th>b2</th>\n      <th>b3</th>\n      <th>b4</th>\n      <th>b5</th>\n      <th>LastFirstDuration</th>\n      <th>ExpectedFirstDuration</th>\n      <th>LastRegistrationDuration</th>\n      <th>FirstPaymentMonth</th>\n      <th>LastPaymentMonth</th>\n      <th>RegistrationMonth</th>\n    </tr>\n  </thead>\n  <tbody>\n    <tr>\n      <th>0</th>\n      <td>880.0</td>\n      <td>930.0</td>\n      <td>495.0</td>\n      <td>715.0</td>\n      <td>220.0</td>\n      <td>385.0</td>\n      <td>2018-04-23</td>\n      <td>2500</td>\n      <td>0.0</td>\n      <td>DAILY</td>\n      <td>...</td>\n      <td>280.0</td>\n      <td>1320.0</td>\n      <td>1200.0</td>\n      <td>660.0</td>\n      <td>37.0</td>\n      <td>18.0</td>\n      <td>37.0</td>\n      <td>4</td>\n      <td>5</td>\n      <td>4</td>\n    </tr>\n    <tr>\n      <th>4</th>\n      <td>40.0</td>\n      <td>440.0</td>\n      <td>460.0</td>\n      <td>360.0</td>\n      <td>80.0</td>\n      <td>330.0</td>\n      <td>2017-09-06</td>\n      <td>2000</td>\n      <td>0.0</td>\n      <td>DAILY</td>\n      <td>...</td>\n      <td>80.0</td>\n      <td>40.0</td>\n      <td>40.0</td>\n      <td>80.0</td>\n      <td>44.0</td>\n      <td>11.0</td>\n      <td>44.0</td>\n      <td>9</td>\n      <td>5</td>\n      <td>9</td>\n    </tr>\n    <tr>\n      <th>10</th>\n      <td>1560.0</td>\n      <td>2340.0</td>\n      <td>880.0</td>\n      <td>1450.0</td>\n      <td>1500.0</td>\n      <td>1285.0</td>\n      <td>2018-03-08</td>\n      <td>2999</td>\n      <td>0.0</td>\n      <td>DAILY</td>\n      <td>...</td>\n      <td>450.0</td>\n      <td>180.0</td>\n      <td>270.0</td>\n      <td>4800.0</td>\n      <td>38.0</td>\n      <td>17.0</td>\n      <td>38.0</td>\n      <td>3</td>\n      <td>5</td>\n      <td>3</td>\n    </tr>\n    <tr>\n      <th>12</th>\n      <td>1200.0</td>\n      <td>1380.0</td>\n      <td>1510.0</td>\n      <td>1390.0</td>\n      <td>1300.0</td>\n      <td>1400.0</td>\n      <td>2018-01-24</td>\n      <td>2000</td>\n      <td>0.0</td>\n      <td>DAILY</td>\n      <td>...</td>\n      <td>960.0</td>\n      <td>920.0</td>\n      <td>600.0</td>\n      <td>920.0</td>\n      <td>12.0</td>\n      <td>11.0</td>\n      <td>12.0</td>\n      <td>1</td>\n      <td>2</td>\n      <td>1</td>\n    </tr>\n    <tr>\n      <th>14</th>\n      <td>960.0</td>\n      <td>830.0</td>\n      <td>1040.0</td>\n      <td>840.0</td>\n      <td>800.0</td>\n      <td>840.0</td>\n      <td>2017-07-31</td>\n      <td>2000</td>\n      <td>0.0</td>\n      <td>DAILY</td>\n      <td>...</td>\n      <td>990.0</td>\n      <td>140.0</td>\n      <td>920.0</td>\n      <td>1280.0</td>\n      <td>15.0</td>\n      <td>11.0</td>\n      <td>15.0</td>\n      <td>7</td>\n      <td>11</td>\n      <td>7</td>\n    </tr>\n  </tbody>\n</table>\n<p>5 rows × 43 columns</p>\n</div>"
     },
     "execution_count": 3,
     "metadata": {},
     "output_type": "execute_result"
    }
   ],
   "source": [
    "# Drop Useless Columns\n",
    "def drop_cols(df):\n",
    "    df.drop(\n",
    "        [\n",
    "            \"ID\",\n",
    "            \"UpsellDate\",\n",
    "            \"PaymentMethod\",\n",
    "            \"TransactionDates\",\n",
    "            \"PaymentsHistory\",\n",
    "            \"SupplierName\",\n",
    "            \"Town\",\n",
    "            \"RegistrationDateParsed\",\n",
    "            \"ExpectedTermDateParsed\",\n",
    "            \"FirstPaymentDateParsed\",\n",
    "            \"LastPaymentDateParsed\"\n",
    "        ],\n",
    "        inplace=True,\n",
    "        axis=1\n",
    "    )\n",
    "drop_cols(train)\n",
    "drop_cols(test)\n",
    "train.head()\n",
    "test.head()"
   ],
   "metadata": {
    "collapsed": false,
    "pycharm": {
     "name": "#%%\n"
    }
   }
  },
  {
   "cell_type": "code",
   "execution_count": 4,
   "outputs": [],
   "source": [
    "# Feature Encoding\n",
    "\n"
   ],
   "metadata": {
    "collapsed": false,
    "pycharm": {
     "name": "#%%\n"
    }
   }
  },
  {
   "cell_type": "code",
   "execution_count": null,
   "outputs": [],
   "source": [
    "## Inference: model, X  -> yPred"
   ],
   "metadata": {
    "collapsed": false,
    "pycharm": {
     "name": "#%%\n"
    }
   }
  }
 ],
 "metadata": {
  "kernelspec": {
   "display_name": "Python 3",
   "language": "python",
   "name": "python3"
  },
  "language_info": {
   "codemirror_mode": {
    "name": "ipython",
    "version": 2
   },
   "file_extension": ".py",
   "mimetype": "text/x-python",
   "name": "python",
   "nbconvert_exporter": "python",
   "pygments_lexer": "ipython2",
   "version": "2.7.6"
  }
 },
 "nbformat": 4,
 "nbformat_minor": 0
}