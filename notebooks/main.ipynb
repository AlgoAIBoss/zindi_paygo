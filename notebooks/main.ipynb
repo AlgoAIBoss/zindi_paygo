{
 "cells": [
  {
   "cell_type": "code",
   "execution_count": 1,
   "source": [
    "import os\n",
    "import sys\n",
    "from pathlib import Path\n",
    "\n",
    "mod_path = os.path.join(Path.cwd().parent)\n",
    "if mod_path not in sys.path:\n",
    "    sys.path.append(mod_path)"
   ],
   "outputs": [],
   "metadata": {}
  },
  {
   "cell_type": "code",
   "execution_count": 4,
   "source": [
    "## Data Ingestion\n",
    "from src.data.ingestion import DataIngestion\n",
    "from src.features.encoding import FeatureEncoding\n",
    "train, test = DataIngestion(mode=\"dev\").execute(set_seed=0)"
   ],
   "outputs": [
    {
     "output_type": "stream",
     "name": "stdout",
     "text": [
      "Int64Index([    0,     2,     4,     5,     7,     8,    15,    19,    21,\n",
      "               23,\n",
      "            ...\n",
      "            27995, 27996, 27998, 28000, 28001, 28002, 28003, 28004, 28005,\n",
      "            28006],\n",
      "           dtype='int64', length=15398)\n"
     ]
    }
   ],
   "metadata": {}
  },
  {
   "cell_type": "code",
   "execution_count": 2,
   "source": [
    "## Feature Engineering\n",
    "from src.features.engineering import FeatureEngineering\n",
    "\n",
    "FEATURE_ID_MAPPING = {\n",
    "    \"Occupation\": 0,\n",
    "    \"MainApplicantGender\": 1\n",
    "}\n",
    "\n",
    "train = FeatureEngineering().execute(train)\n",
    "test = FeatureEngineering().execute(test)"
   ],
   "outputs": [],
   "metadata": {
    "pycharm": {
     "name": "#%%\n"
    }
   }
  },
  {
   "cell_type": "code",
   "execution_count": 3,
   "source": [
    "## Feature Encoding\n",
    "cat_features = [\"Occupation\", \"MainApplicantGender\"]\n",
    "\n",
    "encoding_obj = FeatureEncoding()\n",
    "encoded_df = encoding_obj.one_hot_encoding(\n",
    "    categorical_frame=train[cat_features],\n",
    "    type_of_data=\"train\",\n",
    "    conv=True,\n",
    "    drop='first',\n",
    "    handle_unknown=\"error\"\n",
    ")\n",
    "encoded_df.head()\n",
    "\n",
    "encoded_test_df = encoding_obj.one_hot_encoding(\n",
    "    categorical_frame=test[cat_features],\n",
    "    type_of_data=\"test\",\n",
    "    conv=True,\n",
    "    drop='first',\n",
    "    handle_unknown=\"error\"\n",
    ")\n",
    "encoded_test_df.head()\n"
   ],
   "outputs": [
    {
     "output_type": "stream",
     "name": "stdout",
     "text": [
      "COLUMN-------\n",
      "Occupation\n",
      "['Teacher' 'Farmer' 'Business' 'Government Employee' 'Other' 'Labourer'\n",
      " 'Driver/Motorbike Rider']\n",
      "COLUMN-------\n",
      "MainApplicantGender\n",
      "['Male' 'Female']\n"
     ]
    },
    {
     "output_type": "execute_result",
     "data": {
      "text/plain": [
       "   Driver/Motorbike Rider  Farmer  Government Employee  Labourer  Other  \\\n",
       "0                     0.0     1.0                  0.0       0.0    0.0   \n",
       "1                     0.0     0.0                  0.0       0.0    0.0   \n",
       "2                     0.0     1.0                  0.0       0.0    0.0   \n",
       "3                     0.0     0.0                  0.0       0.0    0.0   \n",
       "4                     0.0     1.0                  0.0       0.0    0.0   \n",
       "\n",
       "   Teacher  Male  \n",
       "0      0.0   1.0  \n",
       "1      0.0   1.0  \n",
       "2      0.0   1.0  \n",
       "3      0.0   0.0  \n",
       "4      0.0   0.0  "
      ],
      "text/html": [
       "<div>\n",
       "<style scoped>\n",
       "    .dataframe tbody tr th:only-of-type {\n",
       "        vertical-align: middle;\n",
       "    }\n",
       "\n",
       "    .dataframe tbody tr th {\n",
       "        vertical-align: top;\n",
       "    }\n",
       "\n",
       "    .dataframe thead th {\n",
       "        text-align: right;\n",
       "    }\n",
       "</style>\n",
       "<table border=\"1\" class=\"dataframe\">\n",
       "  <thead>\n",
       "    <tr style=\"text-align: right;\">\n",
       "      <th></th>\n",
       "      <th>Driver/Motorbike Rider</th>\n",
       "      <th>Farmer</th>\n",
       "      <th>Government Employee</th>\n",
       "      <th>Labourer</th>\n",
       "      <th>Other</th>\n",
       "      <th>Teacher</th>\n",
       "      <th>Male</th>\n",
       "    </tr>\n",
       "  </thead>\n",
       "  <tbody>\n",
       "    <tr>\n",
       "      <th>0</th>\n",
       "      <td>0.0</td>\n",
       "      <td>1.0</td>\n",
       "      <td>0.0</td>\n",
       "      <td>0.0</td>\n",
       "      <td>0.0</td>\n",
       "      <td>0.0</td>\n",
       "      <td>1.0</td>\n",
       "    </tr>\n",
       "    <tr>\n",
       "      <th>1</th>\n",
       "      <td>0.0</td>\n",
       "      <td>0.0</td>\n",
       "      <td>0.0</td>\n",
       "      <td>0.0</td>\n",
       "      <td>0.0</td>\n",
       "      <td>0.0</td>\n",
       "      <td>1.0</td>\n",
       "    </tr>\n",
       "    <tr>\n",
       "      <th>2</th>\n",
       "      <td>0.0</td>\n",
       "      <td>1.0</td>\n",
       "      <td>0.0</td>\n",
       "      <td>0.0</td>\n",
       "      <td>0.0</td>\n",
       "      <td>0.0</td>\n",
       "      <td>1.0</td>\n",
       "    </tr>\n",
       "    <tr>\n",
       "      <th>3</th>\n",
       "      <td>0.0</td>\n",
       "      <td>0.0</td>\n",
       "      <td>0.0</td>\n",
       "      <td>0.0</td>\n",
       "      <td>0.0</td>\n",
       "      <td>0.0</td>\n",
       "      <td>0.0</td>\n",
       "    </tr>\n",
       "    <tr>\n",
       "      <th>4</th>\n",
       "      <td>0.0</td>\n",
       "      <td>1.0</td>\n",
       "      <td>0.0</td>\n",
       "      <td>0.0</td>\n",
       "      <td>0.0</td>\n",
       "      <td>0.0</td>\n",
       "      <td>0.0</td>\n",
       "    </tr>\n",
       "  </tbody>\n",
       "</table>\n",
       "</div>"
      ]
     },
     "metadata": {},
     "execution_count": 3
    }
   ],
   "metadata": {
    "collapsed": false,
    "pycharm": {
     "name": "#%%\n"
    }
   }
  },
  {
   "cell_type": "code",
   "execution_count": 4,
   "source": [
    "## X_Train and Y_Train Formulation\n",
    "\n",
    "import copy\n",
    "import pandas as pd\n",
    "new_payments_df = train[[\"m1\", \"m2\", \"m3\", \"m4\", \"m5\", \"m6\"]]\n",
    "y_train = pd.concat([new_payments_df, new_payments_df.T.stack().reset_index(name='y')['y']], axis=1)[[\"y\"]]\n",
    "\n",
    "all_x_dfs = {\"df_0\": train.drop([\"m1\", \"m2\", \"m3\", \"m4\", \"m5\", \"m6\"], axis=1)}\n",
    "for i in range(1, 6):\n",
    "    temp_df = copy.deepcopy(all_x_dfs[f\"df_{i-1}\"])\n",
    "    m_df = new_payments_df[[f\"m{i}\"]]\n",
    "    temp_df = pd.concat([temp_df, m_df], axis=1)\n",
    "    temp_df.rename(columns={f\"m{i}\": \"new_payment\"}, inplace=True)\n",
    "    temp_df = FeatureEngineering().get_updated_df(base_df=temp_df)\n",
    "    all_x_dfs[f\"df_{i}\"] = temp_df\n",
    "\n",
    "x_train = pd.concat([all_x_dfs[f\"df_{i}\"] for i in range(6)], ignore_index=True)\n",
    "del new_payments_df, temp_df, m_df\n"
   ],
   "outputs": [],
   "metadata": {
    "pycharm": {
     "name": "#%%\n"
    }
   }
  },
  {
   "cell_type": "code",
   "execution_count": 5,
   "source": [
    "print(x_train.shape)\n",
    "print(y_train.shape)"
   ],
   "outputs": [
    {
     "output_type": "stream",
     "name": "stdout",
     "text": [
      "(125886, 48)\n",
      "(125886, 1)\n"
     ]
    }
   ],
   "metadata": {
    "collapsed": false,
    "pycharm": {
     "name": "#%%\n"
    }
   }
  },
  {
   "cell_type": "code",
   "execution_count": 14,
   "source": [
    "## Feature Scaling"
   ],
   "outputs": [
    {
     "output_type": "error",
     "ename": "ValueError",
     "evalue": "too many values to unpack (expected 2)",
     "traceback": [
      "\u001b[0;31m---------------------------------------------------------------------------\u001b[0m",
      "\u001b[0;31mValueError\u001b[0m                                Traceback (most recent call last)",
      "\u001b[0;32m<ipython-input-14-af4eb375d89d>\u001b[0m in \u001b[0;36m<module>\u001b[0;34m\u001b[0m\n\u001b[1;32m      2\u001b[0m \u001b[0;31m# Feature Encoding\u001b[0m\u001b[0;34m\u001b[0m\u001b[0;34m\u001b[0m\u001b[0;34m\u001b[0m\u001b[0m\n\u001b[1;32m      3\u001b[0m \u001b[0mencoding_obj\u001b[0m \u001b[0;34m=\u001b[0m \u001b[0mFeatureEncoding\u001b[0m\u001b[0;34m(\u001b[0m\u001b[0;34m)\u001b[0m\u001b[0;34m\u001b[0m\u001b[0;34m\u001b[0m\u001b[0m\n\u001b[0;32m----> 4\u001b[0;31m \u001b[0mencoded_df\u001b[0m \u001b[0;34m=\u001b[0m \u001b[0mencoding_obj\u001b[0m\u001b[0;34m.\u001b[0m\u001b[0mone_hot_encoding\u001b[0m\u001b[0;34m(\u001b[0m\u001b[0mcategorical_frame\u001b[0m\u001b[0;34m=\u001b[0m\u001b[0mtrain\u001b[0m\u001b[0;34m[\u001b[0m\u001b[0mcat_features\u001b[0m\u001b[0;34m]\u001b[0m\u001b[0;34m,\u001b[0m \u001b[0mmode\u001b[0m\u001b[0;34m=\u001b[0m\u001b[0;34m\"train\"\u001b[0m\u001b[0;34m)\u001b[0m\u001b[0;34m\u001b[0m\u001b[0;34m\u001b[0m\u001b[0m\n\u001b[0m\u001b[1;32m      5\u001b[0m \u001b[0mencoded_df\u001b[0m\u001b[0;34m.\u001b[0m\u001b[0mhead\u001b[0m\u001b[0;34m(\u001b[0m\u001b[0;34m)\u001b[0m\u001b[0;34m\u001b[0m\u001b[0;34m\u001b[0m\u001b[0m\n\u001b[1;32m      6\u001b[0m \u001b[0;34m\u001b[0m\u001b[0m\n",
      "\u001b[0;32m~/Desktop/Personal Development/zindi_paygo-1/src/decorators.py\u001b[0m in \u001b[0;36mcheck_and_return_df\u001b[0;34m(*args, **kwargs)\u001b[0m\n\u001b[1;32m      9\u001b[0m     \u001b[0;32mdef\u001b[0m \u001b[0mcheck_and_return_df\u001b[0m\u001b[0;34m(\u001b[0m\u001b[0;34m**\u001b[0m\u001b[0mkwargs\u001b[0m\u001b[0;34m)\u001b[0m\u001b[0;34m:\u001b[0m\u001b[0;34m\u001b[0m\u001b[0;34m\u001b[0m\u001b[0m\n\u001b[1;32m     10\u001b[0m         \u001b[0mframe\u001b[0m \u001b[0;34m=\u001b[0m \u001b[0mkwargs\u001b[0m\u001b[0;34m.\u001b[0m\u001b[0mget\u001b[0m\u001b[0;34m(\u001b[0m\u001b[0;34m\"categorical_frame\"\u001b[0m\u001b[0;34m)\u001b[0m\u001b[0;34m\u001b[0m\u001b[0;34m\u001b[0m\u001b[0m\n\u001b[0;32m---> 11\u001b[0;31m         \u001b[0mprint\u001b[0m\u001b[0;34m(\u001b[0m\u001b[0mfunc\u001b[0m\u001b[0;34m(\u001b[0m\u001b[0;34m**\u001b[0m\u001b[0mkwargs\u001b[0m\u001b[0;34m)\u001b[0m\u001b[0;34m)\u001b[0m\u001b[0;34m\u001b[0m\u001b[0;34m\u001b[0m\u001b[0m\n\u001b[0m\u001b[1;32m     12\u001b[0m         \u001b[0mencoded_arr\u001b[0m\u001b[0;34m,\u001b[0m \u001b[0mencoder\u001b[0m \u001b[0;34m=\u001b[0m \u001b[0mfunc\u001b[0m\u001b[0;34m(\u001b[0m\u001b[0;34m**\u001b[0m\u001b[0mkwargs\u001b[0m\u001b[0;34m)\u001b[0m\u001b[0;34m\u001b[0m\u001b[0;34m\u001b[0m\u001b[0m\n\u001b[1;32m     13\u001b[0m         \u001b[0;31m# two pipelines for pd.DataFrame and np.ndarray\u001b[0m\u001b[0;34m\u001b[0m\u001b[0;34m\u001b[0m\u001b[0;34m\u001b[0m\u001b[0m\n",
      "\u001b[0;31mValueError\u001b[0m: too many values to unpack (expected 2)"
     ]
    }
   ],
   "metadata": {
    "pycharm": {
     "name": "#%%\n"
    }
   }
  },
  {
   "cell_type": "code",
   "execution_count": null,
   "source": [
    "## Model Training\n",
    "new_payments_df = test[[\"m1\", \"m2\", \"m3\", \"m4\", \"m5\", \"m6\"]]\n",
    "y_test = pd.concat([new_payments_df, new_payments_df.T.stack().reset_index(name='y')['y']], axis=1)[[\"y\"]]\n",
    "\n",
    "y_pred = pd.DataFrame()\n",
    "x_test = test.drop([\"m1\", \"m2\", \"m3\", \"m4\", \"m5\", \"m6\"])\n",
    "for _ in range(6):\n",
    "    # TODO AP:\n",
    "    y_pred_np_arr = model.predict(x_test)\n",
    "    # Convert y_pred_np_arr into y_pred_df\n",
    "    y_pred_df = model.predict(x_test)\n",
    "    y_pred = pd.concat([y_pred, y_pred_df], ignore_index=True)\n",
    "    x_test = pd.concat([x_test, y_pred_df], axis=1)\n",
    "    x_test.rename(columns={f\"y_pred\": \"new_payment\"}, inplace=True)\n",
    "    x_test = FeatureEngineering().get_updated_df(base_df=x_test)\n",
    "    # all_x_dfs[f\"df_{i}\"] = temp_df"
   ],
   "outputs": [],
   "metadata": {}
  },
  {
   "cell_type": "code",
   "execution_count": null,
   "source": [
    "## Inference: model, X  -> yPred"
   ],
   "outputs": [],
   "metadata": {}
  },
  {
   "cell_type": "code",
   "execution_count": null,
   "source": [
    "# Submission File, Calculation of Metric (RMSE)\n",
    "# Input: y_test(n X 6), y_pred(n X 6)\n",
    "# Output: RMSE\n",
    "\n"
   ],
   "outputs": [],
   "metadata": {
    "pycharm": {
     "name": "#%%\n"
    }
   }
  },
  {
   "cell_type": "code",
   "execution_count": null,
   "source": [
    "# Outlier detection (if any)"
   ],
   "outputs": [],
   "metadata": {}
  },
  {
   "cell_type": "markdown",
   "source": [
    "# TASKS\n",
    "# Tasks\n",
    "    - Feature selection  Aum\n",
    "        - Automated selection based on Genie Index\n",
    "\n",
    "    - Pipeline setup  Nikhil\n",
    "        - Pre-process\n",
    "            - ingestion (DONE)\n",
    "            - Features (DONE)\n",
    "            - Encoding (Pending)\n",
    "            - scaling (if applicable)\n",
    "        - Modelling\n",
    "            - Approach2\n",
    "            - Sliding updates for features for Train and test\n",
    "\n",
    "        - validation\n",
    "            - Calculate RMSE"
   ],
   "metadata": {
    "pycharm": {
     "name": "#%% md\n"
    }
   }
  },
  {
   "cell_type": "code",
   "execution_count": null,
   "source": [
    "# Drop Useless Columns\n",
    "def drop_cols(df):\n",
    "\n",
    "    df.drop(\n",
    "        [\n",
    "            \"ID\",\n",
    "            \"UpsellDate\",\n",
    "            \"PaymentMethod\",\n",
    "            \"TransactionDates\",\n",
    "            \"PaymentsHistory\",\n",
    "            \"SupplierName\",\n",
    "            \"Town\",\n",
    "            \"RegistrationDateParsed\",\n",
    "            \"ExpectedTermDateParsed\",\n",
    "            \"FirstPaymentDateParsed\",\n",
    "            \"LastPaymentDateParsed\"\n",
    "        ],\n",
    "        inplace=True,\n",
    "        axis=1\n",
    "    )\n",
    "drop_cols(train)\n",
    "drop_cols(test)\n",
    "train.head()\n",
    "test.head()\n"
   ],
   "outputs": [],
   "metadata": {
    "pycharm": {
     "name": "#%%\n"
    }
   }
  }
 ],
 "metadata": {
  "kernelspec": {
   "display_name": "Python 3",
   "language": "python",
   "name": "python3"
  },
  "language_info": {
   "codemirror_mode": {
    "name": "ipython",
    "version": 3
   },
   "file_extension": ".py",
   "mimetype": "text/x-python",
   "name": "python",
   "nbconvert_exporter": "python",
   "pygments_lexer": "ipython3",
   "version": "3.9.1"
  }
 },
 "nbformat": 4,
 "nbformat_minor": 1
}