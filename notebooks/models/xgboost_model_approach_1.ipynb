{
 "cells": [
  {
   "cell_type": "code",
   "execution_count": 1,
   "id": "b203636f",
   "metadata": {
    "scrolled": true
   },
   "outputs": [],
   "source": [
    "import os\n",
    "import sys\n",
    "from pathlib import Path\n",
    "\n",
    "mod_path = os.path.join(Path.cwd().parent.parent)\n",
    "if mod_path not in sys.path:\n",
    "    sys.path.append(mod_path)"
   ]
  },
  {
   "cell_type": "code",
   "execution_count": 2,
   "id": "e85f72c8",
   "metadata": {},
   "outputs": [],
   "source": [
    "import pandas as pd\n",
    "import numpy as np\n",
    "\n",
    "from sklearn.model_selection import StratifiedKFold\n",
    "\n",
    "from src.data import *\n",
    "from src.features.utils import *\n",
    "from src.model.tree_based import ModelXgBoost"
   ]
  },
  {
   "cell_type": "code",
   "execution_count": 3,
   "id": "a2dbab49",
   "metadata": {},
   "outputs": [],
   "source": [
    "# data with shape 28007, 33 [transaction related features]\n",
    "train = pd.read_csv('../../data/processed/train.csv')"
   ]
  },
  {
   "cell_type": "code",
   "execution_count": 4,
   "id": "9d75c607",
   "metadata": {
    "scrolled": true
   },
   "outputs": [
    {
     "data": {
      "text/plain": [
       "Index(['Unnamed: 0', 'ID', 'Deposit', 'AccessoryRate', 'rateTypeEntity',\n",
       "       'RatePerUnit', 'DaysOnDeposit', 'MainApplicantGender', 'Age', 'Region',\n",
       "       'Occupation', 'Term', 'TotalContractValue', 'ExpectedTermDate',\n",
       "       'FirstPaymentDate', 'LastPaymentDate', 'm1', 'm2', 'm3', 'm4', 'm5',\n",
       "       'm6', 'SplitPaymentsHistory', 'nb_payments', 'amount_paid',\n",
       "       'percent_amt_paid', 'mean_amt_paid', 'median_amt_paid', 'max_amt_paid',\n",
       "       'min_amt_paid', 'stddev_amt_paid', 'b1', 'b2', 'b3', 'b4', 'b5'],\n",
       "      dtype='object')"
      ]
     },
     "execution_count": 4,
     "metadata": {},
     "output_type": "execute_result"
    }
   ],
   "source": [
    "train.columns"
   ]
  },
  {
   "cell_type": "code",
   "execution_count": 5,
   "id": "5689f90f",
   "metadata": {
    "scrolled": true
   },
   "outputs": [
    {
     "data": {
      "text/plain": [
       "Index(['ID', 'Deposit', 'AccessoryRate', 'rateTypeEntity', 'RatePerUnit',\n",
       "       'DaysOnDeposit', 'MainApplicantGender', 'Age', 'Region', 'Occupation',\n",
       "       'Term', 'TotalContractValue', 'ExpectedTermDate', 'FirstPaymentDate',\n",
       "       'LastPaymentDate', 'm1', 'm2', 'm3', 'm4', 'm5', 'm6',\n",
       "       'SplitPaymentsHistory', 'nb_payments', 'amount_paid',\n",
       "       'percent_amt_paid', 'mean_amt_paid', 'median_amt_paid', 'max_amt_paid',\n",
       "       'min_amt_paid', 'stddev_amt_paid', 'b1', 'b2', 'b3', 'b4', 'b5'],\n",
       "      dtype='object')"
      ]
     },
     "execution_count": 5,
     "metadata": {},
     "output_type": "execute_result"
    }
   ],
   "source": [
    "train.drop(columns = 'Unnamed: 0', inplace=True)\n",
    "train.columns"
   ]
  },
  {
   "cell_type": "code",
   "execution_count": 6,
   "id": "b9e6f930",
   "metadata": {},
   "outputs": [
    {
     "data": {
      "text/plain": [
       "(28007, 35)"
      ]
     },
     "execution_count": 6,
     "metadata": {},
     "output_type": "execute_result"
    }
   ],
   "source": [
    "train.shape"
   ]
  },
  {
   "cell_type": "code",
   "execution_count": 7,
   "id": "44ca51d4",
   "metadata": {},
   "outputs": [
    {
     "name": "stdout",
     "output_type": "stream",
     "text": [
      "5.162994965544328\n"
     ]
    }
   ],
   "source": [
    "# Region has certain NaN values which might cause issues while encoding\n",
    "# As total NaNs constitute ~5% of the data (1446) we remove it as of now\n",
    "print(train['Region'].isna().sum() / train.shape[0] * 100)\n",
    "train.dropna(subset=['Region'], how='all', inplace=True)"
   ]
  },
  {
   "cell_type": "code",
   "execution_count": 8,
   "id": "b5b759f2",
   "metadata": {},
   "outputs": [
    {
     "data": {
      "text/plain": [
       "(26561, 35)"
      ]
     },
     "execution_count": 8,
     "metadata": {},
     "output_type": "execute_result"
    }
   ],
   "source": [
    "train.shape"
   ]
  },
  {
   "cell_type": "code",
   "execution_count": 9,
   "id": "48941ce1",
   "metadata": {},
   "outputs": [],
   "source": [
    "# split_payment_history_df = train[[\"ID\", \"SplitPaymentsHistory\"]]\n",
    "id_arr = train[[\"ID\"]]\n",
    "\n",
    "target = train[['m1', 'm2', 'm3', 'm4', 'm5', 'm6']]\n",
    "train_arr = train.drop(columns=['m1', 'm2', 'm3', 'm4', 'm5', 'm6', \n",
    "                                'ID',\n",
    "                                'SplitPaymentsHistory',\n",
    "                                'ExpectedTermDate', \n",
    "                                'FirstPaymentDate',\n",
    "                                'LastPaymentDate',])"
   ]
  },
  {
   "cell_type": "markdown",
   "id": "574b51fb",
   "metadata": {},
   "source": [
    "## Approach 1"
   ]
  },
  {
   "cell_type": "markdown",
   "id": "22223c9c",
   "metadata": {},
   "source": [
    "### Model train on initial hp"
   ]
  },
  {
   "cell_type": "code",
   "execution_count": 10,
   "id": "0558c338",
   "metadata": {},
   "outputs": [],
   "source": [
    "def approach_one_model(x_train, y_train, x_test):\n",
    "    model = ModelXgBoost(train_array=x_train, train_target=y_train)\n",
    "    model.train_model()  # Default h.params (Checkout the code)\n",
    "    \n",
    "    predict = model.trained_model.predict(x_test)\n",
    "    \n",
    "    return model, predict"
   ]
  },
  {
   "cell_type": "code",
   "execution_count": 11,
   "id": "55b6c154",
   "metadata": {},
   "outputs": [],
   "source": [
    "def encode_and_drop(full_array, data_type, tr_encoder=None):\n",
    "#     print(tr_encoder)\n",
    "    categorical_array = full_array[full_array.select_dtypes(exclude=['number']).columns]\n",
    "    numerical_array = full_array.drop(columns=X_train.select_dtypes(exclude=['number']).columns)\n",
    "#     print(numerical_array.shape)\n",
    "    encoded_array, encoder = one_hot_encoding(\n",
    "        categorical_frame=categorical_array, \n",
    "        type_of_data=data_type,\n",
    "        fitted_encoder=tr_encoder,\n",
    "        conv=True\n",
    "    )\n",
    "#     print(encoded_array.shape)\n",
    "    final_array = pd.concat([numerical_array.reset_index(drop=True), \n",
    "                             encoded_array.reset_index(drop=True)], axis=1)\n",
    "    final_array.index = numerical_array.index\n",
    "#     print(final_array.shape)\n",
    "    return numerical_array, encoded_array, encoder"
   ]
  },
  {
   "cell_type": "code",
   "execution_count": 12,
   "id": "a4a3d972",
   "metadata": {},
   "outputs": [],
   "source": [
    "# split data into train and test sets\n",
    "from sklearn.model_selection import train_test_split\n",
    "\n",
    "seed = 10\n",
    "X_train, X_test, y_train, y_test = train_test_split(train_arr, target, test_size=0.45, random_state=seed)"
   ]
  },
  {
   "cell_type": "code",
   "execution_count": 13,
   "id": "79503fff",
   "metadata": {},
   "outputs": [],
   "source": [
    "model_dict = dict()\n",
    "predict_dict = dict()\n",
    "for model_no, target_col in enumerate([\"m1\", \"m2\", \"m3\", \"m4\", \"m5\", \"m6\"]):\n",
    "    og_frame, encoded_train, encoder_model = encode_and_drop(X_train, \"train\", None)\n",
    "    og_frame_test, encoded_test, encoder_model = encode_and_drop(X_test, \"test\", encoder_model)\n",
    "    model_dict[f\"M_{model_no}\"], predict_dict[f\"m{model_no+1}_pred\"] = approach_one_model(\n",
    "        x_train=encoded_train,\n",
    "        y_train=y_train[[target_col]],\n",
    "        x_test=encoded_test\n",
    "    )"
   ]
  },
  {
   "cell_type": "markdown",
   "id": "82d4c82b",
   "metadata": {},
   "source": [
    "model_dict = dict()\n",
    "predict_dict = dict()\n",
    "for model_no, target_col in enumerate([\"m1\", \"m2\", \"m3\", \"m4\", \"m5\", \"m6\"]):\n",
    "    og_frame, encoded_train, encoder_model = encode_and_drop(X_train, \"train\", None)\n",
    "    og_frame_test, encoded_test, encoder_model = encode_and_drop(X_test, \"test\", encoder_model)\n",
    "    model_dict[f\"M_{model_no}\"], predict_dict[f\"m{model_no+1}_pred\"] = approach_one_model(\n",
    "        x_train=encoded_train,\n",
    "        y_train=y_train[[target_col]],\n",
    "        x_test=encoded_train\n",
    "    )"
   ]
  },
  {
   "cell_type": "code",
   "execution_count": 15,
   "id": "7ff0b843",
   "metadata": {},
   "outputs": [
    {
     "data": {
      "text/plain": [
       "{'m1_pred': array([809.8957 , 805.21423, 772.66815, ..., 809.8957 , 754.74084,\n",
       "        707.98004], dtype=float32),\n",
       " 'm2_pred': array([766.40015, 813.8415 , 788.25244, ..., 766.40015, 760.3801 ,\n",
       "        991.70056], dtype=float32),\n",
       " 'm3_pred': array([759.24927, 801.59204, 778.04877, ..., 759.24927, 762.9633 ,\n",
       "        729.9201 ], dtype=float32),\n",
       " 'm4_pred': array([774.0879 , 830.2388 , 760.61194, ..., 774.0879 , 748.584  ,\n",
       "        789.7673 ], dtype=float32),\n",
       " 'm5_pred': array([811.49286, 823.3398 , 778.02075, ..., 811.49286, 753.9366 ,\n",
       "        753.0577 ], dtype=float32),\n",
       " 'm6_pred': array([616.63574, 760.2139 , 703.4711 , ..., 616.63574, 605.63354,\n",
       "        873.1166 ], dtype=float32)}"
      ]
     },
     "execution_count": 15,
     "metadata": {},
     "output_type": "execute_result"
    }
   ],
   "source": [
    "predict_dict"
   ]
  },
  {
   "cell_type": "markdown",
   "id": "f042adaa",
   "metadata": {},
   "source": [
    "### Calculation of RMSE"
   ]
  },
  {
   "cell_type": "code",
   "execution_count": 17,
   "id": "c7c04753",
   "metadata": {},
   "outputs": [],
   "source": [
    "pred_frame = pd.DataFrame(predict_dict)\n",
    "pred_frame.index = X_test.index\n",
    "# pred_frame.index = X_train.index"
   ]
  },
  {
   "cell_type": "code",
   "execution_count": 18,
   "id": "fe81df39",
   "metadata": {},
   "outputs": [],
   "source": [
    "full_test_array = pd.concat([X_test, y_test, pred_frame], axis=1)\n",
    "# full_test_array = pd.concat([X_train, y_train, pred_frame], axis=1)"
   ]
  },
  {
   "cell_type": "code",
   "execution_count": 19,
   "id": "69866c4d",
   "metadata": {},
   "outputs": [],
   "source": [
    "full_test_array = pd.merge(full_test_array, id_arr, how='left', left_index=True, right_index=True)"
   ]
  },
  {
   "cell_type": "code",
   "execution_count": 20,
   "id": "8d715425",
   "metadata": {},
   "outputs": [],
   "source": [
    "sub_file = SubmissionFile(\n",
    "    validation_data=full_test_array,\n",
    "    type_of_data='validation'\n",
    ").execute()"
   ]
  },
  {
   "cell_type": "code",
   "execution_count": 21,
   "id": "712d3d40",
   "metadata": {},
   "outputs": [
    {
     "data": {
      "text/plain": [
       "(87648, 3)"
      ]
     },
     "execution_count": 21,
     "metadata": {},
     "output_type": "execute_result"
    }
   ],
   "source": [
    "sub_file.shape"
   ]
  },
  {
   "cell_type": "code",
   "execution_count": 22,
   "id": "6254d753",
   "metadata": {},
   "outputs": [],
   "source": [
    "sub_file['SquaredError'] = np.square(sub_file['Target'] - sub_file['Prediction'])"
   ]
  },
  {
   "cell_type": "code",
   "execution_count": 23,
   "id": "ff991c13",
   "metadata": {},
   "outputs": [
    {
     "name": "stdout",
     "output_type": "stream",
     "text": [
      "Final RMSE -->  906.6688076344569\n"
     ]
    }
   ],
   "source": [
    "rmse = np.sqrt(np.sum(sub_file['SquaredError'])/sub_file.shape[0])\n",
    "print('Final RMSE --> ', rmse)"
   ]
  },
  {
   "cell_type": "code",
   "execution_count": null,
   "id": "ee74ef19",
   "metadata": {},
   "outputs": [],
   "source": []
  }
 ],
 "metadata": {
  "kernelspec": {
   "display_name": "zindi_payg",
   "language": "python",
   "name": "zindi_payg"
  },
  "language_info": {
   "codemirror_mode": {
    "name": "ipython",
    "version": 3
   },
   "file_extension": ".py",
   "mimetype": "text/x-python",
   "name": "python",
   "nbconvert_exporter": "python",
   "pygments_lexer": "ipython3",
   "version": "3.9.1"
  }
 },
 "nbformat": 4,
 "nbformat_minor": 5
}
