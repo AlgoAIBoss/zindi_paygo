{
 "cells": [
  {
   "cell_type": "code",
   "execution_count": 1,
   "id": "b203636f",
   "metadata": {
    "scrolled": true
   },
   "outputs": [],
   "source": [
    "import os\n",
    "import sys\n",
    "from pathlib import Path\n",
    "\n",
    "mod_path = os.path.join(Path.cwd().parent.parent)\n",
    "if mod_path not in sys.path:\n",
    "    sys.path.append(mod_path) "
   ]
  },
  {
   "cell_type": "code",
   "execution_count": 2,
   "id": "e85f72c8",
   "metadata": {},
   "outputs": [],
   "source": [
    "import pandas as pd\n",
    "import numpy as np\n",
    "\n",
    "from sklearn.model_selection import StratifiedKFold\n",
    "\n",
    "from src.data import *\n",
    "from src.features.utils import *\n",
    "from src.model.tree_based import ModelXgBoost"
   ]
  },
  {
   "cell_type": "code",
   "execution_count": 3,
   "id": "a2dbab49",
   "metadata": {},
   "outputs": [],
   "source": [
    "# data with shape 28007, 33 [transaction related features]\n",
    "train = pd.read_csv('../../data/processed/train1.csv')\n",
    "test = pd.read_csv('../../data/processed/test1.csv')"
   ]
  },
  {
   "cell_type": "code",
   "execution_count": 4,
   "id": "9d75c607",
   "metadata": {
    "scrolled": true
   },
   "outputs": [
    {
     "data": {
      "text/plain": [
       "Index(['Unnamed: 0', 'ID', 'Deposit', 'AccessoryRate', 'rateTypeEntity',\n",
       "       'RatePerUnit', 'DaysOnDeposit', 'MainApplicantGender', 'Age', 'Region',\n",
       "       'Occupation', 'Term', 'TotalContractValue', 'SplitPaymentsHistory',\n",
       "       'nb_payments', 'amount_paid', 'percent_amt_paid', 'mean_amt_paid',\n",
       "       'median_amt_paid', 'max_amt_paid', 'min_amt_paid', 'stddev_amt_paid',\n",
       "       'nb_skipped_months', 'b1', 'b2', 'b3', 'b4', 'b5'],\n",
       "      dtype='object')"
      ]
     },
     "execution_count": 4,
     "metadata": {},
     "output_type": "execute_result"
    }
   ],
   "source": [
    "# train.columns\n",
    "test.columns"
   ]
  },
  {
   "cell_type": "code",
   "execution_count": 5,
   "id": "5689f90f",
   "metadata": {
    "scrolled": true
   },
   "outputs": [
    {
     "data": {
      "text/plain": [
       "Index(['ID', 'Deposit', 'AccessoryRate', 'rateTypeEntity', 'RatePerUnit',\n",
       "       'DaysOnDeposit', 'MainApplicantGender', 'Age', 'Region', 'Occupation',\n",
       "       'Term', 'TotalContractValue', 'SplitPaymentsHistory', 'nb_payments',\n",
       "       'amount_paid', 'percent_amt_paid', 'mean_amt_paid', 'median_amt_paid',\n",
       "       'max_amt_paid', 'min_amt_paid', 'stddev_amt_paid', 'nb_skipped_months',\n",
       "       'b1', 'b2', 'b3', 'b4', 'b5'],\n",
       "      dtype='object')"
      ]
     },
     "execution_count": 5,
     "metadata": {},
     "output_type": "execute_result"
    }
   ],
   "source": [
    "train.drop(columns = 'Unnamed: 0', inplace=True)\n",
    "test.drop(columns = 'Unnamed: 0', inplace=True)\n",
    "test.columns"
   ]
  },
  {
   "cell_type": "code",
   "execution_count": 6,
   "id": "b9e6f930",
   "metadata": {},
   "outputs": [
    {
     "data": {
      "text/plain": [
       "(9336, 27)"
      ]
     },
     "execution_count": 6,
     "metadata": {},
     "output_type": "execute_result"
    }
   ],
   "source": [
    "test.shape"
   ]
  },
  {
   "cell_type": "code",
   "execution_count": 7,
   "id": "1b6b6d3e",
   "metadata": {},
   "outputs": [
    {
     "name": "stdout",
     "output_type": "stream",
     "text": [
      "5.162994965544328\n"
     ]
    }
   ],
   "source": [
    "print(train['Region'].isna().sum() / train.shape[0] * 100)"
   ]
  },
  {
   "cell_type": "code",
   "execution_count": 8,
   "id": "44ca51d4",
   "metadata": {},
   "outputs": [
    {
     "name": "stdout",
     "output_type": "stream",
     "text": [
      "5.227077977720651\n"
     ]
    }
   ],
   "source": [
    "# Region has certain NaN values which might cause issues while encoding\n",
    "# As total NaNs constitute ~5% of the data (1446) we remove it as of now\n",
    "print(test['Region'].isna().sum() / test.shape[0] * 100)\n",
    "# train.dropna(subset=['Region'], how='all', inplace=True)\n",
    "\n",
    "# When attempting drop=first in OHE, the reverse transform throws an issue as it reads the NaN values as a separate\n",
    "# category. So converting NaNs into strings\n",
    "train['Region'] = train['Region'].fillna('Null')\n",
    "test['Region'] = test['Region'].fillna('Null')"
   ]
  },
  {
   "cell_type": "code",
   "execution_count": 9,
   "id": "b5b759f2",
   "metadata": {},
   "outputs": [
    {
     "data": {
      "text/plain": [
       "(28007, 33)"
      ]
     },
     "execution_count": 9,
     "metadata": {},
     "output_type": "execute_result"
    }
   ],
   "source": [
    "train.shape"
   ]
  },
  {
   "cell_type": "code",
   "execution_count": 10,
   "id": "48941ce1",
   "metadata": {},
   "outputs": [],
   "source": [
    "# split_payment_history_df = train[[\"ID\", \"SplitPaymentsHistory\"]]\n",
    "id_arr = train[[\"ID\"]]\n",
    "\n",
    "target = train[['m1', 'm2', 'm3', 'm4', 'm5', 'm6']]\n",
    "train_arr = train.drop(columns=['m1', 'm2', 'm3', 'm4', 'm5', 'm6', \n",
    "                                'ID',\n",
    "                                'SplitPaymentsHistory'])\n",
    "test_id = test[[\"ID\"]]\n",
    "test.drop(columns=['ID',\n",
    "                   'SplitPaymentsHistory'], inplace=True)"
   ]
  },
  {
   "cell_type": "code",
   "execution_count": 11,
   "id": "2ddf3e80",
   "metadata": {},
   "outputs": [
    {
     "data": {
      "text/plain": [
       "(9336, 25)"
      ]
     },
     "execution_count": 11,
     "metadata": {},
     "output_type": "execute_result"
    }
   ],
   "source": [
    "test.shape"
   ]
  },
  {
   "cell_type": "markdown",
   "id": "574b51fb",
   "metadata": {},
   "source": [
    "## Approach 1"
   ]
  },
  {
   "cell_type": "markdown",
   "id": "22223c9c",
   "metadata": {},
   "source": [
    "### Model train on initial hp"
   ]
  },
  {
   "cell_type": "code",
   "execution_count": 12,
   "id": "0558c338",
   "metadata": {},
   "outputs": [],
   "source": [
    "def approach_one_model(x_train, y_train, x_test):\n",
    "    model = ModelXgBoost(train_array=x_train, train_target=y_train)\n",
    "    model.train_model()  # Default h.params (Checkout the code)\n",
    "    \n",
    "    predict = model.trained_model.predict(x_test)\n",
    "    \n",
    "    return model, predict"
   ]
  },
  {
   "cell_type": "code",
   "execution_count": 13,
   "id": "55b6c154",
   "metadata": {},
   "outputs": [],
   "source": [
    "def encode_and_drop(full_array, data_type, tr_encoder=None):\n",
    "#     print(tr_encoder)\n",
    "    categorical_array = full_array[full_array.select_dtypes(exclude=['number']).columns]\n",
    "    numerical_array = full_array.drop(columns=full_array.select_dtypes(exclude=['number']).columns)\n",
    "#     print(numerical_array.shape)\n",
    "    encoded_array, encoder = one_hot_encoding(\n",
    "        categorical_frame=categorical_array, \n",
    "        type_of_data=data_type,\n",
    "        fitted_encoder=tr_encoder,\n",
    "        conv=True,\n",
    "        drop=\"first\",\n",
    "        handle_unknown=\"error\"\n",
    "    )\n",
    "#     print(encoded_array.shape)\n",
    "    final_array = pd.concat([numerical_array.reset_index(drop=True), \n",
    "                             encoded_array.reset_index(drop=True)], axis=1)\n",
    "    final_array.index = numerical_array.index\n",
    "#     print(final_array.shape)\n",
    "    return numerical_array, final_array, encoder"
   ]
  },
  {
   "cell_type": "code",
   "execution_count": 14,
   "id": "a4a3d972",
   "metadata": {},
   "outputs": [],
   "source": [
    "# split data into train and test sets\n",
    "from sklearn.model_selection import train_test_split\n",
    "\n",
    "seed = 10\n",
    "X_train, X_test, y_train, y_test = train_test_split(train_arr, target, test_size=0.45, random_state=seed)"
   ]
  },
  {
   "cell_type": "code",
   "execution_count": 17,
   "id": "79503fff",
   "metadata": {},
   "outputs": [
    {
     "name": "stdout",
     "output_type": "stream",
     "text": [
      "MODEL 1\n",
      "{'objective': 'reg:squarederror', 'base_score': None, 'booster': None, 'colsample_bylevel': None, 'colsample_bynode': None, 'colsample_bytree': None, 'gamma': None, 'gpu_id': None, 'importance_type': 'gain', 'interaction_constraints': None, 'learning_rate': None, 'max_delta_step': None, 'max_depth': None, 'min_child_weight': None, 'missing': nan, 'monotone_constraints': None, 'n_estimators': 100, 'n_jobs': None, 'num_parallel_tree': None, 'random_state': None, 'reg_alpha': 50, 'reg_lambda': 0, 'scale_pos_weight': None, 'subsample': None, 'tree_method': None, 'validate_parameters': None, 'verbosity': 0, 'use_label_encoder': False}\n",
      "MODEL 2\n",
      "{'objective': 'reg:squarederror', 'base_score': None, 'booster': None, 'colsample_bylevel': None, 'colsample_bynode': None, 'colsample_bytree': None, 'gamma': None, 'gpu_id': None, 'importance_type': 'gain', 'interaction_constraints': None, 'learning_rate': None, 'max_delta_step': None, 'max_depth': None, 'min_child_weight': None, 'missing': nan, 'monotone_constraints': None, 'n_estimators': 100, 'n_jobs': None, 'num_parallel_tree': None, 'random_state': None, 'reg_alpha': 50, 'reg_lambda': 0, 'scale_pos_weight': None, 'subsample': None, 'tree_method': None, 'validate_parameters': None, 'verbosity': 0, 'use_label_encoder': False}\n",
      "MODEL 3\n",
      "{'objective': 'reg:squarederror', 'base_score': None, 'booster': None, 'colsample_bylevel': None, 'colsample_bynode': None, 'colsample_bytree': None, 'gamma': None, 'gpu_id': None, 'importance_type': 'gain', 'interaction_constraints': None, 'learning_rate': None, 'max_delta_step': None, 'max_depth': None, 'min_child_weight': None, 'missing': nan, 'monotone_constraints': None, 'n_estimators': 100, 'n_jobs': None, 'num_parallel_tree': None, 'random_state': None, 'reg_alpha': 50, 'reg_lambda': 0, 'scale_pos_weight': None, 'subsample': None, 'tree_method': None, 'validate_parameters': None, 'verbosity': 0, 'use_label_encoder': False}\n",
      "MODEL 4\n",
      "{'objective': 'reg:squarederror', 'base_score': None, 'booster': None, 'colsample_bylevel': None, 'colsample_bynode': None, 'colsample_bytree': None, 'gamma': None, 'gpu_id': None, 'importance_type': 'gain', 'interaction_constraints': None, 'learning_rate': None, 'max_delta_step': None, 'max_depth': None, 'min_child_weight': None, 'missing': nan, 'monotone_constraints': None, 'n_estimators': 100, 'n_jobs': None, 'num_parallel_tree': None, 'random_state': None, 'reg_alpha': 50, 'reg_lambda': 0, 'scale_pos_weight': None, 'subsample': None, 'tree_method': None, 'validate_parameters': None, 'verbosity': 0, 'use_label_encoder': False}\n",
      "MODEL 5\n",
      "{'objective': 'reg:squarederror', 'base_score': None, 'booster': None, 'colsample_bylevel': None, 'colsample_bynode': None, 'colsample_bytree': None, 'gamma': None, 'gpu_id': None, 'importance_type': 'gain', 'interaction_constraints': None, 'learning_rate': None, 'max_delta_step': None, 'max_depth': None, 'min_child_weight': None, 'missing': nan, 'monotone_constraints': None, 'n_estimators': 100, 'n_jobs': None, 'num_parallel_tree': None, 'random_state': None, 'reg_alpha': 50, 'reg_lambda': 0, 'scale_pos_weight': None, 'subsample': None, 'tree_method': None, 'validate_parameters': None, 'verbosity': 0, 'use_label_encoder': False}\n",
      "MODEL 6\n",
      "{'objective': 'reg:squarederror', 'base_score': None, 'booster': None, 'colsample_bylevel': None, 'colsample_bynode': None, 'colsample_bytree': None, 'gamma': None, 'gpu_id': None, 'importance_type': 'gain', 'interaction_constraints': None, 'learning_rate': None, 'max_delta_step': None, 'max_depth': None, 'min_child_weight': None, 'missing': nan, 'monotone_constraints': None, 'n_estimators': 100, 'n_jobs': None, 'num_parallel_tree': None, 'random_state': None, 'reg_alpha': 50, 'reg_lambda': 0, 'scale_pos_weight': None, 'subsample': None, 'tree_method': None, 'validate_parameters': None, 'verbosity': 0, 'use_label_encoder': False}\n"
     ]
    }
   ],
   "source": [
    "model_dict = dict()\n",
    "predict_dict = dict()\n",
    "for model_no, target_col in enumerate([\"m1\", \"m2\", \"m3\", \"m4\", \"m5\", \"m6\"]):\n",
    "    print(f\"MODEL {model_no+1}\")\n",
    "    og_frame, encoded_train, encoder_model = encode_and_drop(X_train, \"train\", None)\n",
    "    og_frame_test, encoded_test, encoder_model = encode_and_drop(X_test, \"test\", encoder_model)\n",
    "    model_dict[f\"M_{model_no}\"], predict_dict[f\"m{model_no+1}_pred\"] = approach_one_model(\n",
    "        x_train=encoded_train,\n",
    "        y_train=y_train[[target_col]],\n",
    "        x_test=encoded_train\n",
    "    )"
   ]
  },
  {
   "cell_type": "markdown",
   "id": "7fb9173a",
   "metadata": {},
   "source": [
    "model_dict = dict()\n",
    "predict_dict = dict()\n",
    "for model_no, target_col in enumerate([\"m1\", \"m2\", \"m3\", \"m4\", \"m5\", \"m6\"]):\n",
    "    og_frame, encoded_train, encoder_model = encode_and_drop(X_train, \"train\", None)\n",
    "    og_frame_test, encoded_test, encoder_model = encode_and_drop(X_test, \"test\", encoder_model)\n",
    "    model_dict[f\"M_{model_no}\"], predict_dict[f\"m{model_no+1}_pred\"] = approach_one_model(\n",
    "        x_train=encoded_train,\n",
    "        y_train=y_train[[target_col]],\n",
    "        x_test=encoded_train\n",
    "    )"
   ]
  },
  {
   "cell_type": "code",
   "execution_count": 18,
   "id": "4588ce60",
   "metadata": {},
   "outputs": [
    {
     "data": {
      "text/plain": [
       "{'m1_pred': array([ 696.7633 , 3020.8875 ,   86.29766, ..., 2108.0122 ,  841.9431 ,\n",
       "        1246.153  ], dtype=float32),\n",
       " 'm2_pred': array([ 832.72327 , 2507.6167  ,   55.434147, ..., 1350.4679  ,\n",
       "         671.1714  , 1149.3551  ], dtype=float32),\n",
       " 'm3_pred': array([ 861.92004, 1817.4036 ,   30.50992, ..., 1635.627  ,  690.8228 ,\n",
       "        1159.1213 ], dtype=float32),\n",
       " 'm4_pred': array([ 973.28925, 2124.0352 ,   76.56692, ..., 1516.7856 ,  701.21466,\n",
       "        1097.7303 ], dtype=float32),\n",
       " 'm5_pred': array([ 814.0458  , 2576.7205  ,   18.634806, ..., 2108.123   ,\n",
       "         837.8979  , 1182.604   ], dtype=float32),\n",
       " 'm6_pred': array([ 461.53244, 2750.6143 ,  -80.74959, ..., 1169.5126 ,  509.15338,\n",
       "         749.5798 ], dtype=float32)}"
      ]
     },
     "execution_count": 18,
     "metadata": {},
     "output_type": "execute_result"
    }
   ],
   "source": [
    "predict_dict"
   ]
  },
  {
   "cell_type": "markdown",
   "id": "f042adaa",
   "metadata": {},
   "source": [
    "### Calculation of RMSE"
   ]
  },
  {
   "cell_type": "code",
   "execution_count": 19,
   "id": "c7c04753",
   "metadata": {},
   "outputs": [],
   "source": [
    "pred_frame = pd.DataFrame(predict_dict)\n",
    "# pred_frame.index = X_test.index\n",
    "pred_frame.index = X_train.index"
   ]
  },
  {
   "cell_type": "code",
   "execution_count": 20,
   "id": "fe81df39",
   "metadata": {},
   "outputs": [],
   "source": [
    "# full_test_array = pd.concat([X_test, y_test, pred_frame], axis=1)\n",
    "full_test_array = pd.concat([X_train, y_train, pred_frame], axis=1)"
   ]
  },
  {
   "cell_type": "code",
   "execution_count": 21,
   "id": "69866c4d",
   "metadata": {},
   "outputs": [],
   "source": [
    "full_test_array = pd.merge(full_test_array, id_arr, how='left', left_index=True, right_index=True)"
   ]
  },
  {
   "cell_type": "code",
   "execution_count": 22,
   "id": "8d715425",
   "metadata": {},
   "outputs": [],
   "source": [
    "sub_file = SubmissionFile(\n",
    "    validation_data=full_test_array,\n",
    "    type_of_data='validation'\n",
    ").execute()"
   ]
  },
  {
   "cell_type": "code",
   "execution_count": 23,
   "id": "712d3d40",
   "metadata": {},
   "outputs": [
    {
     "data": {
      "text/plain": [
       "(92418, 3)"
      ]
     },
     "execution_count": 23,
     "metadata": {},
     "output_type": "execute_result"
    }
   ],
   "source": [
    "sub_file.shape"
   ]
  },
  {
   "cell_type": "code",
   "execution_count": 24,
   "id": "6254d753",
   "metadata": {},
   "outputs": [],
   "source": [
    "sub_file['SquaredError'] = np.square(sub_file['Target'] - sub_file['Prediction'])"
   ]
  },
  {
   "cell_type": "code",
   "execution_count": 25,
   "id": "ff991c13",
   "metadata": {},
   "outputs": [
    {
     "name": "stdout",
     "output_type": "stream",
     "text": [
      "Final RMSE -->  243.56665476102563\n"
     ]
    }
   ],
   "source": [
    "rmse = np.sqrt(np.sum(sub_file['SquaredError'])/sub_file.shape[0])\n",
    "print('Final RMSE --> ', rmse)"
   ]
  },
  {
   "cell_type": "markdown",
   "id": "e4ea26ff",
   "metadata": {},
   "source": [
    "### Preparing Submission"
   ]
  },
  {
   "cell_type": "code",
   "execution_count": null,
   "id": "f372cf2b",
   "metadata": {},
   "outputs": [],
   "source": [
    "encoded_train.columns"
   ]
  },
  {
   "cell_type": "code",
   "execution_count": null,
   "id": "c64380f3",
   "metadata": {},
   "outputs": [],
   "source": [
    "model_dict_test = dict()\n",
    "predict_dict_test = dict()\n",
    "for model_no, target_col in enumerate([\"m1\", \"m2\", \"m3\", \"m4\", \"m5\", \"m6\"]):\n",
    "    og_frame, encoded_train, encoder_model = encode_and_drop(train_arr, \"train\", None)\n",
    "    og_frame_test, encoded_test, encoder_model = encode_and_drop(test, \"test\", encoder_model)\n",
    "    model_dict_test[f\"M_{model_no}\"], predict_dict_test[f\"m{model_no+1}_pred\"] = approach_one_model(\n",
    "        x_train=encoded_train,\n",
    "        y_train=target[[target_col]],\n",
    "        x_test=encoded_test\n",
    "    )"
   ]
  },
  {
   "cell_type": "code",
   "execution_count": null,
   "id": "5c6431b8",
   "metadata": {},
   "outputs": [],
   "source": [
    "pred_frame_test = pd.DataFrame(predict_dict_test)\n",
    "pred_frame_test.index = test.index"
   ]
  },
  {
   "cell_type": "code",
   "execution_count": null,
   "id": "2d3d798d",
   "metadata": {},
   "outputs": [],
   "source": [
    "full_test_array_test = pd.concat([test, pred_frame_test], axis=1)\n",
    "full_test_array_test = pd.merge(full_test_array_test, test_id, how='left', left_index=True, right_index=True)"
   ]
  },
  {
   "cell_type": "code",
   "execution_count": null,
   "id": "09bcbc29",
   "metadata": {},
   "outputs": [],
   "source": [
    "sub_file = SubmissionFile(\n",
    "    validation_data=full_test_array_test,\n",
    "    type_of_data='test'\n",
    ").execute()\n",
    "sub_file.reset_index(drop=True, inplace=True)"
   ]
  },
  {
   "cell_type": "code",
   "execution_count": null,
   "id": "18e716db",
   "metadata": {},
   "outputs": [],
   "source": [
    "sub_file.to_csv('../../submissions/submission_approach_1_default_tree_method.csv', )"
   ]
  },
  {
   "cell_type": "code",
   "execution_count": null,
   "id": "11edf978",
   "metadata": {},
   "outputs": [],
   "source": [
    "sub_file"
   ]
  },
  {
   "cell_type": "code",
   "execution_count": null,
   "id": "bd1c7794",
   "metadata": {},
   "outputs": [],
   "source": [
    "sub_file[sub_file[\"ID\"].str.contains('ID_6L67PAA')]"
   ]
  },
  {
   "cell_type": "code",
   "execution_count": null,
   "id": "169c6570",
   "metadata": {},
   "outputs": [],
   "source": []
  }
 ],
 "metadata": {
  "kernelspec": {
   "display_name": "zindi_payg",
   "language": "python",
   "name": "zindi_payg"
  },
  "language_info": {
   "codemirror_mode": {
    "name": "ipython",
    "version": 3
   },
   "file_extension": ".py",
   "mimetype": "text/x-python",
   "name": "python",
   "nbconvert_exporter": "python",
   "pygments_lexer": "ipython3",
   "version": "3.9.1"
  }
 },
 "nbformat": 4,
 "nbformat_minor": 5
}
