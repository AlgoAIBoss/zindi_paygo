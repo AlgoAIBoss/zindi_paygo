{
 "cells": [
  {
   "cell_type": "code",
   "execution_count": 1,
   "id": "b203636f",
   "metadata": {
    "scrolled": true
   },
   "outputs": [],
   "source": [
    "import os\n",
    "import sys\n",
    "from pathlib import Path\n",
    "\n",
    "mod_path = os.path.join(Path.cwd().parent.parent)\n",
    "if mod_path not in sys.path:\n",
    "    sys.path.append(mod_path)"
   ]
  },
  {
   "cell_type": "code",
   "execution_count": 2,
   "id": "e85f72c8",
   "metadata": {},
   "outputs": [],
   "source": [
    "import pandas as pd\n",
    "import numpy as np\n",
    "\n",
    "from sklearn.model_selection import StratifiedKFold\n",
    "\n",
    "from src.data import *\n",
    "from src.features.utils import *\n",
    "from src.model.tree_based import ModelXgBoost"
   ]
  },
  {
   "cell_type": "code",
   "execution_count": 3,
   "id": "a2dbab49",
   "metadata": {},
   "outputs": [],
   "source": [
    "# data with shape 28007, 33 [transaction related features]\n",
    "train = pd.read_csv('../../data/processed/train.csv')"
   ]
  },
  {
   "cell_type": "code",
   "execution_count": 4,
   "id": "9d75c607",
   "metadata": {
    "scrolled": true
   },
   "outputs": [
    {
     "data": {
      "text/html": [
       "<div>\n",
       "<style scoped>\n",
       "    .dataframe tbody tr th:only-of-type {\n",
       "        vertical-align: middle;\n",
       "    }\n",
       "\n",
       "    .dataframe tbody tr th {\n",
       "        vertical-align: top;\n",
       "    }\n",
       "\n",
       "    .dataframe thead th {\n",
       "        text-align: right;\n",
       "    }\n",
       "</style>\n",
       "<table border=\"1\" class=\"dataframe\">\n",
       "  <thead>\n",
       "    <tr style=\"text-align: right;\">\n",
       "      <th></th>\n",
       "      <th>Unnamed: 0</th>\n",
       "      <th>ID</th>\n",
       "      <th>Deposit</th>\n",
       "      <th>AccessoryRate</th>\n",
       "      <th>rateTypeEntity</th>\n",
       "      <th>RatePerUnit</th>\n",
       "      <th>DaysOnDeposit</th>\n",
       "      <th>MainApplicantGender</th>\n",
       "      <th>Age</th>\n",
       "      <th>Region</th>\n",
       "      <th>...</th>\n",
       "      <th>mean_amt_paid</th>\n",
       "      <th>median_amt_paid</th>\n",
       "      <th>max_amt_paid</th>\n",
       "      <th>min_amt_paid</th>\n",
       "      <th>stddev_amt_paid</th>\n",
       "      <th>b1</th>\n",
       "      <th>b2</th>\n",
       "      <th>b3</th>\n",
       "      <th>b4</th>\n",
       "      <th>b5</th>\n",
       "    </tr>\n",
       "  </thead>\n",
       "  <tbody>\n",
       "    <tr>\n",
       "      <th>0</th>\n",
       "      <td>0</td>\n",
       "      <td>ID_MR53LEX</td>\n",
       "      <td>2500</td>\n",
       "      <td>0.0</td>\n",
       "      <td>DAILY</td>\n",
       "      <td>55</td>\n",
       "      <td>3</td>\n",
       "      <td>Male</td>\n",
       "      <td>NaN</td>\n",
       "      <td>Coast Region</td>\n",
       "      <td>...</td>\n",
       "      <td>517.26</td>\n",
       "      <td>350.0</td>\n",
       "      <td>3600.0</td>\n",
       "      <td>55.0</td>\n",
       "      <td>652.49</td>\n",
       "      <td>770.0</td>\n",
       "      <td>280.0</td>\n",
       "      <td>1320.0</td>\n",
       "      <td>1200.0</td>\n",
       "      <td>660.0</td>\n",
       "    </tr>\n",
       "    <tr>\n",
       "      <th>1</th>\n",
       "      <td>1</td>\n",
       "      <td>ID_3D7NQUH</td>\n",
       "      <td>2500</td>\n",
       "      <td>0.0</td>\n",
       "      <td>DAILY</td>\n",
       "      <td>55</td>\n",
       "      <td>3</td>\n",
       "      <td>Male</td>\n",
       "      <td>26.0</td>\n",
       "      <td>South Rift</td>\n",
       "      <td>...</td>\n",
       "      <td>737.87</td>\n",
       "      <td>655.0</td>\n",
       "      <td>2940.0</td>\n",
       "      <td>380.0</td>\n",
       "      <td>452.03</td>\n",
       "      <td>770.0</td>\n",
       "      <td>655.0</td>\n",
       "      <td>660.0</td>\n",
       "      <td>660.0</td>\n",
       "      <td>605.0</td>\n",
       "    </tr>\n",
       "    <tr>\n",
       "      <th>2</th>\n",
       "      <td>2</td>\n",
       "      <td>ID_0IWQNPI</td>\n",
       "      <td>2400</td>\n",
       "      <td>0.0</td>\n",
       "      <td>DAILY</td>\n",
       "      <td>50</td>\n",
       "      <td>3</td>\n",
       "      <td>Male</td>\n",
       "      <td>21.0</td>\n",
       "      <td>Mount Kenya Region</td>\n",
       "      <td>...</td>\n",
       "      <td>1126.67</td>\n",
       "      <td>980.0</td>\n",
       "      <td>2850.0</td>\n",
       "      <td>200.0</td>\n",
       "      <td>1005.32</td>\n",
       "      <td>250.0</td>\n",
       "      <td>200.0</td>\n",
       "      <td>610.0</td>\n",
       "      <td>1350.0</td>\n",
       "      <td>1500.0</td>\n",
       "    </tr>\n",
       "    <tr>\n",
       "      <th>3</th>\n",
       "      <td>3</td>\n",
       "      <td>ID_IY8SYB9</td>\n",
       "      <td>2000</td>\n",
       "      <td>0.0</td>\n",
       "      <td>DAILY</td>\n",
       "      <td>40</td>\n",
       "      <td>7</td>\n",
       "      <td>Female</td>\n",
       "      <td>26.0</td>\n",
       "      <td>Mount Kenya Region</td>\n",
       "      <td>...</td>\n",
       "      <td>1126.00</td>\n",
       "      <td>1140.0</td>\n",
       "      <td>2200.0</td>\n",
       "      <td>380.0</td>\n",
       "      <td>511.30</td>\n",
       "      <td>380.0</td>\n",
       "      <td>600.0</td>\n",
       "      <td>1100.0</td>\n",
       "      <td>1300.0</td>\n",
       "      <td>780.0</td>\n",
       "    </tr>\n",
       "    <tr>\n",
       "      <th>4</th>\n",
       "      <td>4</td>\n",
       "      <td>ID_9XHL7VZ</td>\n",
       "      <td>2000</td>\n",
       "      <td>0.0</td>\n",
       "      <td>DAILY</td>\n",
       "      <td>40</td>\n",
       "      <td>7</td>\n",
       "      <td>Male</td>\n",
       "      <td>27.0</td>\n",
       "      <td>North Rift</td>\n",
       "      <td>...</td>\n",
       "      <td>353.59</td>\n",
       "      <td>190.0</td>\n",
       "      <td>2640.0</td>\n",
       "      <td>40.0</td>\n",
       "      <td>559.24</td>\n",
       "      <td>520.0</td>\n",
       "      <td>80.0</td>\n",
       "      <td>40.0</td>\n",
       "      <td>40.0</td>\n",
       "      <td>80.0</td>\n",
       "    </tr>\n",
       "    <tr>\n",
       "      <th>...</th>\n",
       "      <td>...</td>\n",
       "      <td>...</td>\n",
       "      <td>...</td>\n",
       "      <td>...</td>\n",
       "      <td>...</td>\n",
       "      <td>...</td>\n",
       "      <td>...</td>\n",
       "      <td>...</td>\n",
       "      <td>...</td>\n",
       "      <td>...</td>\n",
       "      <td>...</td>\n",
       "      <td>...</td>\n",
       "      <td>...</td>\n",
       "      <td>...</td>\n",
       "      <td>...</td>\n",
       "      <td>...</td>\n",
       "      <td>...</td>\n",
       "      <td>...</td>\n",
       "      <td>...</td>\n",
       "      <td>...</td>\n",
       "      <td>...</td>\n",
       "    </tr>\n",
       "    <tr>\n",
       "      <th>28002</th>\n",
       "      <td>28002</td>\n",
       "      <td>ID_CDZ24L9</td>\n",
       "      <td>2500</td>\n",
       "      <td>0.0</td>\n",
       "      <td>DAILY</td>\n",
       "      <td>55</td>\n",
       "      <td>3</td>\n",
       "      <td>Male</td>\n",
       "      <td>NaN</td>\n",
       "      <td>Coast Region</td>\n",
       "      <td>...</td>\n",
       "      <td>1753.21</td>\n",
       "      <td>1635.0</td>\n",
       "      <td>5235.0</td>\n",
       "      <td>800.0</td>\n",
       "      <td>1069.37</td>\n",
       "      <td>1750.0</td>\n",
       "      <td>1600.0</td>\n",
       "      <td>1500.0</td>\n",
       "      <td>800.0</td>\n",
       "      <td>1670.0</td>\n",
       "    </tr>\n",
       "    <tr>\n",
       "      <th>28003</th>\n",
       "      <td>28003</td>\n",
       "      <td>ID_0XINELS</td>\n",
       "      <td>2400</td>\n",
       "      <td>0.0</td>\n",
       "      <td>DAILY</td>\n",
       "      <td>50</td>\n",
       "      <td>3</td>\n",
       "      <td>Female</td>\n",
       "      <td>NaN</td>\n",
       "      <td>Nairobi Region</td>\n",
       "      <td>...</td>\n",
       "      <td>1166.25</td>\n",
       "      <td>1025.0</td>\n",
       "      <td>2980.0</td>\n",
       "      <td>450.0</td>\n",
       "      <td>786.66</td>\n",
       "      <td>550.0</td>\n",
       "      <td>1200.0</td>\n",
       "      <td>1250.0</td>\n",
       "      <td>850.0</td>\n",
       "      <td>1050.0</td>\n",
       "    </tr>\n",
       "    <tr>\n",
       "      <th>28004</th>\n",
       "      <td>28004</td>\n",
       "      <td>ID_PAU9JJU</td>\n",
       "      <td>2000</td>\n",
       "      <td>0.0</td>\n",
       "      <td>DAILY</td>\n",
       "      <td>40</td>\n",
       "      <td>3</td>\n",
       "      <td>Male</td>\n",
       "      <td>29.0</td>\n",
       "      <td>South Rift</td>\n",
       "      <td>...</td>\n",
       "      <td>952.22</td>\n",
       "      <td>1020.0</td>\n",
       "      <td>2580.0</td>\n",
       "      <td>200.0</td>\n",
       "      <td>695.70</td>\n",
       "      <td>1020.0</td>\n",
       "      <td>1110.0</td>\n",
       "      <td>1080.0</td>\n",
       "      <td>660.0</td>\n",
       "      <td>200.0</td>\n",
       "    </tr>\n",
       "    <tr>\n",
       "      <th>28005</th>\n",
       "      <td>28005</td>\n",
       "      <td>ID_K866QHS</td>\n",
       "      <td>2000</td>\n",
       "      <td>0.0</td>\n",
       "      <td>DAILY</td>\n",
       "      <td>40</td>\n",
       "      <td>7</td>\n",
       "      <td>Female</td>\n",
       "      <td>57.0</td>\n",
       "      <td>Mount Kenya Region</td>\n",
       "      <td>...</td>\n",
       "      <td>1241.25</td>\n",
       "      <td>1180.0</td>\n",
       "      <td>2000.0</td>\n",
       "      <td>970.0</td>\n",
       "      <td>323.04</td>\n",
       "      <td>970.0</td>\n",
       "      <td>1240.0</td>\n",
       "      <td>1200.0</td>\n",
       "      <td>1000.0</td>\n",
       "      <td>1120.0</td>\n",
       "    </tr>\n",
       "    <tr>\n",
       "      <th>28006</th>\n",
       "      <td>28006</td>\n",
       "      <td>ID_L485J6M</td>\n",
       "      <td>2000</td>\n",
       "      <td>0.0</td>\n",
       "      <td>DAILY</td>\n",
       "      <td>40</td>\n",
       "      <td>7</td>\n",
       "      <td>Male</td>\n",
       "      <td>62.0</td>\n",
       "      <td>Nairobi Region</td>\n",
       "      <td>...</td>\n",
       "      <td>1134.00</td>\n",
       "      <td>950.0</td>\n",
       "      <td>2910.0</td>\n",
       "      <td>630.0</td>\n",
       "      <td>655.48</td>\n",
       "      <td>900.0</td>\n",
       "      <td>880.0</td>\n",
       "      <td>880.0</td>\n",
       "      <td>630.0</td>\n",
       "      <td>650.0</td>\n",
       "    </tr>\n",
       "  </tbody>\n",
       "</table>\n",
       "<p>28007 rows × 36 columns</p>\n",
       "</div>"
      ],
      "text/plain": [
       "       Unnamed: 0          ID  Deposit  AccessoryRate rateTypeEntity  \\\n",
       "0               0  ID_MR53LEX     2500            0.0          DAILY   \n",
       "1               1  ID_3D7NQUH     2500            0.0          DAILY   \n",
       "2               2  ID_0IWQNPI     2400            0.0          DAILY   \n",
       "3               3  ID_IY8SYB9     2000            0.0          DAILY   \n",
       "4               4  ID_9XHL7VZ     2000            0.0          DAILY   \n",
       "...           ...         ...      ...            ...            ...   \n",
       "28002       28002  ID_CDZ24L9     2500            0.0          DAILY   \n",
       "28003       28003  ID_0XINELS     2400            0.0          DAILY   \n",
       "28004       28004  ID_PAU9JJU     2000            0.0          DAILY   \n",
       "28005       28005  ID_K866QHS     2000            0.0          DAILY   \n",
       "28006       28006  ID_L485J6M     2000            0.0          DAILY   \n",
       "\n",
       "       RatePerUnit  DaysOnDeposit MainApplicantGender   Age  \\\n",
       "0               55              3                Male   NaN   \n",
       "1               55              3                Male  26.0   \n",
       "2               50              3                Male  21.0   \n",
       "3               40              7              Female  26.0   \n",
       "4               40              7                Male  27.0   \n",
       "...            ...            ...                 ...   ...   \n",
       "28002           55              3                Male   NaN   \n",
       "28003           50              3              Female   NaN   \n",
       "28004           40              3                Male  29.0   \n",
       "28005           40              7              Female  57.0   \n",
       "28006           40              7                Male  62.0   \n",
       "\n",
       "                   Region  ... mean_amt_paid  median_amt_paid  max_amt_paid  \\\n",
       "0            Coast Region  ...        517.26            350.0        3600.0   \n",
       "1              South Rift  ...        737.87            655.0        2940.0   \n",
       "2      Mount Kenya Region  ...       1126.67            980.0        2850.0   \n",
       "3      Mount Kenya Region  ...       1126.00           1140.0        2200.0   \n",
       "4              North Rift  ...        353.59            190.0        2640.0   \n",
       "...                   ...  ...           ...              ...           ...   \n",
       "28002        Coast Region  ...       1753.21           1635.0        5235.0   \n",
       "28003      Nairobi Region  ...       1166.25           1025.0        2980.0   \n",
       "28004          South Rift  ...        952.22           1020.0        2580.0   \n",
       "28005  Mount Kenya Region  ...       1241.25           1180.0        2000.0   \n",
       "28006      Nairobi Region  ...       1134.00            950.0        2910.0   \n",
       "\n",
       "      min_amt_paid stddev_amt_paid      b1      b2      b3      b4      b5  \n",
       "0             55.0          652.49   770.0   280.0  1320.0  1200.0   660.0  \n",
       "1            380.0          452.03   770.0   655.0   660.0   660.0   605.0  \n",
       "2            200.0         1005.32   250.0   200.0   610.0  1350.0  1500.0  \n",
       "3            380.0          511.30   380.0   600.0  1100.0  1300.0   780.0  \n",
       "4             40.0          559.24   520.0    80.0    40.0    40.0    80.0  \n",
       "...            ...             ...     ...     ...     ...     ...     ...  \n",
       "28002        800.0         1069.37  1750.0  1600.0  1500.0   800.0  1670.0  \n",
       "28003        450.0          786.66   550.0  1200.0  1250.0   850.0  1050.0  \n",
       "28004        200.0          695.70  1020.0  1110.0  1080.0   660.0   200.0  \n",
       "28005        970.0          323.04   970.0  1240.0  1200.0  1000.0  1120.0  \n",
       "28006        630.0          655.48   900.0   880.0   880.0   630.0   650.0  \n",
       "\n",
       "[28007 rows x 36 columns]"
      ]
     },
     "execution_count": 4,
     "metadata": {},
     "output_type": "execute_result"
    }
   ],
   "source": [
    "train"
   ]
  },
  {
   "cell_type": "code",
   "execution_count": 5,
   "id": "5689f90f",
   "metadata": {
    "scrolled": true
   },
   "outputs": [
    {
     "data": {
      "text/plain": [
       "Index(['ID', 'Deposit', 'AccessoryRate', 'rateTypeEntity', 'RatePerUnit',\n",
       "       'DaysOnDeposit', 'MainApplicantGender', 'Age', 'Region', 'Occupation',\n",
       "       'Term', 'TotalContractValue', 'ExpectedTermDate', 'FirstPaymentDate',\n",
       "       'LastPaymentDate', 'm1', 'm2', 'm3', 'm4', 'm5', 'm6',\n",
       "       'SplitPaymentsHistory', 'nb_payments', 'amount_paid',\n",
       "       'percent_amt_paid', 'mean_amt_paid', 'median_amt_paid', 'max_amt_paid',\n",
       "       'min_amt_paid', 'stddev_amt_paid', 'b1', 'b2', 'b3', 'b4', 'b5'],\n",
       "      dtype='object')"
      ]
     },
     "execution_count": 5,
     "metadata": {},
     "output_type": "execute_result"
    }
   ],
   "source": [
    "train.drop(columns = 'Unnamed: 0', inplace=True)\n",
    "train.columns"
   ]
  },
  {
   "cell_type": "code",
   "execution_count": 6,
   "id": "b9e6f930",
   "metadata": {},
   "outputs": [
    {
     "data": {
      "text/plain": [
       "(28007, 35)"
      ]
     },
     "execution_count": 6,
     "metadata": {},
     "output_type": "execute_result"
    }
   ],
   "source": [
    "train.shape"
   ]
  },
  {
   "cell_type": "code",
   "execution_count": 7,
   "id": "44ca51d4",
   "metadata": {},
   "outputs": [
    {
     "name": "stdout",
     "output_type": "stream",
     "text": [
      "5.162994965544328\n"
     ]
    }
   ],
   "source": [
    "# Region has certain NaN values which might cause issues while encoding\n",
    "# As total NaNs constitute ~5% of the data (1446) we remove it as of now\n",
    "print(train['Region'].isna().sum() / train.shape[0] * 100)\n",
    "train.dropna(subset=['Region'], how='all', inplace=True)"
   ]
  },
  {
   "cell_type": "code",
   "execution_count": 8,
   "id": "b5b759f2",
   "metadata": {},
   "outputs": [
    {
     "data": {
      "text/plain": [
       "(26561, 35)"
      ]
     },
     "execution_count": 8,
     "metadata": {},
     "output_type": "execute_result"
    }
   ],
   "source": [
    "train.shape"
   ]
  },
  {
   "cell_type": "code",
   "execution_count": 9,
   "id": "48941ce1",
   "metadata": {},
   "outputs": [],
   "source": [
    "# split_payment_history_df = train[[\"ID\", \"SplitPaymentsHistory\"]]\n",
    "id_arr = train[[\"ID\"]]\n",
    "\n",
    "target = train[['m1', 'm2', 'm3', 'm4', 'm5', 'm6']]\n",
    "train_arr = train.drop(columns=['m1', 'm2', 'm3', 'm4', 'm5', 'm6', \n",
    "                                'ID',\n",
    "                                'SplitPaymentsHistory',\n",
    "                                'ExpectedTermDate', \n",
    "                                'FirstPaymentDate',\n",
    "                                'LastPaymentDate',])"
   ]
  },
  {
   "cell_type": "markdown",
   "id": "574b51fb",
   "metadata": {},
   "source": [
    "## Approach 1"
   ]
  },
  {
   "cell_type": "markdown",
   "id": "22223c9c",
   "metadata": {},
   "source": [
    "### Model train on initial hp"
   ]
  },
  {
   "cell_type": "code",
   "execution_count": 10,
   "id": "0558c338",
   "metadata": {},
   "outputs": [],
   "source": [
    "def approach_one_model(x_train, y_train, x_test):\n",
    "    model = ModelXgBoost(train_array=x_train, train_target=y_train)\n",
    "    model.train_model()  # Default h.params (Checkout the code)\n",
    "    predict = model.trained_model.predict(x_test)\n",
    "    \n",
    "    return model, predict"
   ]
  },
  {
   "cell_type": "code",
   "execution_count": 11,
   "id": "55b6c154",
   "metadata": {},
   "outputs": [],
   "source": [
    "def encode_and_drop(full_array, data_type, tr_encoder=None):\n",
    "#     print(tr_encoder)\n",
    "    categorical_array = full_array[full_array.select_dtypes(exclude=['number']).columns]\n",
    "    numerical_array = full_array.drop(columns=X_train.select_dtypes(exclude=['number']).columns)\n",
    "#     print(numerical_array.shape)\n",
    "    encoded_array, encoder = one_hot_encoding(\n",
    "        categorical_frame=categorical_array, \n",
    "        type_of_data=data_type,\n",
    "        fitted_encoder=tr_encoder,\n",
    "        conv=True\n",
    "    )\n",
    "#     print(encoded_array.shape)\n",
    "    final_array = pd.concat([numerical_array.reset_index(drop=True), \n",
    "                             encoded_array.reset_index(drop=True)], axis=1)\n",
    "    final_array.index = numerical_array.index\n",
    "#     print(final_array.shape)\n",
    "    return numerical_array, encoded_array, encoder"
   ]
  },
  {
   "cell_type": "code",
   "execution_count": 12,
   "id": "a4a3d972",
   "metadata": {},
   "outputs": [],
   "source": [
    "# split data into train and test sets\n",
    "from sklearn.model_selection import train_test_split\n",
    "\n",
    "seed = 10\n",
    "X_train, X_test, y_train, y_test = train_test_split(train_arr, target, test_size=0.45, random_state=seed)"
   ]
  },
  {
   "cell_type": "code",
   "execution_count": 13,
   "id": "79503fff",
   "metadata": {},
   "outputs": [],
   "source": [
    "model_dict = dict()\n",
    "predict_dict = dict()\n",
    "for model_no, target_col in enumerate([\"m1\", \"m2\", \"m3\", \"m4\", \"m5\", \"m6\"]):\n",
    "    og_frame, encoded_train, encoder_model = encode_and_drop(X_train, \"train\", None)\n",
    "    og_frame_test, encoded_test, encoder_model = encode_and_drop(X_test, \"test\", encoder_model)\n",
    "    model_dict[f\"M_{model_no}\"], predict_dict[f\"m{model_no+1}_pred\"] = approach_one_model(\n",
    "        x_train=encoded_train,\n",
    "        y_train=y_train[[target_col]],\n",
    "        x_test=encoded_test\n",
    "    )    "
   ]
  },
  {
   "cell_type": "markdown",
   "id": "f042adaa",
   "metadata": {},
   "source": [
    "### Calculation of RMSE"
   ]
  },
  {
   "cell_type": "code",
   "execution_count": 14,
   "id": "c7c04753",
   "metadata": {},
   "outputs": [],
   "source": [
    "pred_frame = pd.DataFrame(predict_dict)\n",
    "pred_frame.index = X_test.index"
   ]
  },
  {
   "cell_type": "code",
   "execution_count": 15,
   "id": "fe81df39",
   "metadata": {},
   "outputs": [],
   "source": [
    "full_test_array = pd.concat([X_test, y_test, pred_frame], axis=1)"
   ]
  },
  {
   "cell_type": "code",
   "execution_count": 16,
   "id": "69866c4d",
   "metadata": {},
   "outputs": [],
   "source": [
    "full_test_array = pd.merge(full_test_array, id_arr, how='left', left_index=True, right_index=True)"
   ]
  },
  {
   "cell_type": "code",
   "execution_count": 17,
   "id": "8d715425",
   "metadata": {},
   "outputs": [],
   "source": [
    "sub_file = SubmissionFile(\n",
    "    validation_data=full_test_array,\n",
    "    type_of_data='validation'\n",
    ").execute()"
   ]
  },
  {
   "cell_type": "code",
   "execution_count": 18,
   "id": "712d3d40",
   "metadata": {},
   "outputs": [
    {
     "data": {
      "text/plain": [
       "(71718, 3)"
      ]
     },
     "execution_count": 18,
     "metadata": {},
     "output_type": "execute_result"
    }
   ],
   "source": [
    "sub_file.shape"
   ]
  },
  {
   "cell_type": "code",
   "execution_count": 19,
   "id": "6254d753",
   "metadata": {},
   "outputs": [],
   "source": [
    "sub_file['SquaredError'] = np.square(sub_file['Target'] - sub_file['Prediction'])"
   ]
  },
  {
   "cell_type": "code",
   "execution_count": 20,
   "id": "ff991c13",
   "metadata": {},
   "outputs": [
    {
     "name": "stdout",
     "output_type": "stream",
     "text": [
      "Final RMSE -->  876.9076296273787\n"
     ]
    }
   ],
   "source": [
    "rmse = np.sqrt(np.sum(sub_file['SquaredError'])/sub_file.shape[0])\n",
    "print('Final RMSE --> ', rmse)"
   ]
  },
  {
   "cell_type": "code",
   "execution_count": null,
   "id": "ee74ef19",
   "metadata": {},
   "outputs": [],
   "source": []
  }
 ],
 "metadata": {
  "kernelspec": {
   "display_name": "zindi_payg",
   "language": "python",
   "name": "zindi_payg"
  },
  "language_info": {
   "codemirror_mode": {
    "name": "ipython",
    "version": 3
   },
   "file_extension": ".py",
   "mimetype": "text/x-python",
   "name": "python",
   "nbconvert_exporter": "python",
   "pygments_lexer": "ipython3",
   "version": "3.9.1"
  }
 },
 "nbformat": 4,
 "nbformat_minor": 5
}
